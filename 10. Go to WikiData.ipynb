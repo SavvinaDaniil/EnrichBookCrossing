{
 "cells": [
  {
   "cell_type": "markdown",
   "id": "da89f4cb",
   "metadata": {},
   "source": [
    "# Import Libraries"
   ]
  },
  {
   "cell_type": "code",
   "execution_count": 1,
   "id": "2a364a83",
   "metadata": {},
   "outputs": [
    {
     "ename": "ModuleNotFoundError",
     "evalue": "No module named 'qwikidata'",
     "output_type": "error",
     "traceback": [
      "\u001b[0;31m---------------------------------------------------------------------------\u001b[0m",
      "\u001b[0;31mModuleNotFoundError\u001b[0m                       Traceback (most recent call last)",
      "Input \u001b[0;32mIn [1]\u001b[0m, in \u001b[0;36m<cell line: 4>\u001b[0;34m()\u001b[0m\n\u001b[1;32m      2\u001b[0m \u001b[38;5;28;01mimport\u001b[39;00m \u001b[38;5;21;01mpandas\u001b[39;00m \u001b[38;5;28;01mas\u001b[39;00m \u001b[38;5;21;01mpd\u001b[39;00m\n\u001b[1;32m      3\u001b[0m \u001b[38;5;28;01mimport\u001b[39;00m \u001b[38;5;21;01mtime\u001b[39;00m\n\u001b[0;32m----> 4\u001b[0m \u001b[38;5;28;01mfrom\u001b[39;00m \u001b[38;5;21;01mqwikidata\u001b[39;00m\u001b[38;5;21;01m.\u001b[39;00m\u001b[38;5;21;01msparql\u001b[39;00m \u001b[38;5;28;01mimport\u001b[39;00m return_sparql_query_results\n\u001b[1;32m      5\u001b[0m \u001b[38;5;28;01mfrom\u001b[39;00m \u001b[38;5;21;01mqwikidata\u001b[39;00m\u001b[38;5;21;01m.\u001b[39;00m\u001b[38;5;21;01mentity\u001b[39;00m \u001b[38;5;28;01mimport\u001b[39;00m WikidataItem, WikidataLexeme, WikidataProperty\n\u001b[1;32m      6\u001b[0m \u001b[38;5;28;01mfrom\u001b[39;00m \u001b[38;5;21;01mqwikidata\u001b[39;00m\u001b[38;5;21;01m.\u001b[39;00m\u001b[38;5;21;01mlinked_data_interface\u001b[39;00m \u001b[38;5;28;01mimport\u001b[39;00m get_entity_dict_from_api\n",
      "\u001b[0;31mModuleNotFoundError\u001b[0m: No module named 'qwikidata'"
     ]
    }
   ],
   "source": [
    "import pickle as pkl\n",
    "import pandas as pd\n",
    "import time\n",
    "from qwikidata.sparql import return_sparql_query_results\n",
    "from qwikidata.entity import WikidataItem, WikidataLexeme, WikidataProperty\n",
    "from qwikidata.linked_data_interface import get_entity_dict_from_api"
   ]
  },
  {
   "cell_type": "markdown",
   "id": "e57cd1bf",
   "metadata": {},
   "source": [
    "# Set relevant parameters"
   ]
  },
  {
   "cell_type": "code",
   "execution_count": 2,
   "id": "ae542912",
   "metadata": {},
   "outputs": [],
   "source": [
    "properties = {\"sexuality\":\"P91\",\n",
    "             \"country\":\"P27\",\n",
    "             \"language\":\"P6886\",\n",
    "             \"religion\":\"P140\",\n",
    "             \"gender\":\"P21\",\n",
    "             \"ethnicity\":\"P172\",\n",
    "             \"birthyear\":\"P569\",\n",
    "             \"deathyear\":\"P570\"}"
   ]
  },
  {
   "cell_type": "markdown",
   "id": "be23dbe2",
   "metadata": {},
   "source": [
    "# Read file"
   ]
  },
  {
   "cell_type": "code",
   "execution_count": 3,
   "id": "2fbf59d2",
   "metadata": {},
   "outputs": [],
   "source": [
    "final_dataset = pd.read_csv(\"data/final_dataset_before_properties.csv\", low_memory = False, index_col=0).fillna(\"\")"
   ]
  },
  {
   "cell_type": "code",
   "execution_count": 4,
   "id": "159e93de",
   "metadata": {},
   "outputs": [
    {
     "data": {
      "text/html": [
       "<div>\n",
       "<style scoped>\n",
       "    .dataframe tbody tr th:only-of-type {\n",
       "        vertical-align: middle;\n",
       "    }\n",
       "\n",
       "    .dataframe tbody tr th {\n",
       "        vertical-align: top;\n",
       "    }\n",
       "\n",
       "    .dataframe thead th {\n",
       "        text-align: right;\n",
       "    }\n",
       "</style>\n",
       "<table border=\"1\" class=\"dataframe\">\n",
       "  <thead>\n",
       "    <tr style=\"text-align: right;\">\n",
       "      <th></th>\n",
       "      <th>ISBN</th>\n",
       "      <th>title</th>\n",
       "      <th>author</th>\n",
       "      <th>alt_title</th>\n",
       "      <th>alt_author</th>\n",
       "      <th>correct_author</th>\n",
       "      <th>alt_first_author</th>\n",
       "      <th>viaf_id</th>\n",
       "      <th>QID</th>\n",
       "    </tr>\n",
       "    <tr>\n",
       "      <th>index</th>\n",
       "      <th></th>\n",
       "      <th></th>\n",
       "      <th></th>\n",
       "      <th></th>\n",
       "      <th></th>\n",
       "      <th></th>\n",
       "      <th></th>\n",
       "      <th></th>\n",
       "      <th></th>\n",
       "    </tr>\n",
       "  </thead>\n",
       "  <tbody>\n",
       "    <tr>\n",
       "      <th>2</th>\n",
       "      <td>0002005018</td>\n",
       "      <td>Clara Callan</td>\n",
       "      <td>Richard Bruce Wright</td>\n",
       "      <td>Clara Callan</td>\n",
       "      <td>Richard Bruce Wright</td>\n",
       "      <td>Richard Bruce Wright</td>\n",
       "      <td>Richard Bruce Wright</td>\n",
       "      <td>64022406</td>\n",
       "      <td>Q7323887</td>\n",
       "    </tr>\n",
       "    <tr>\n",
       "      <th>3</th>\n",
       "      <td>0771597185</td>\n",
       "      <td>The teacher's daughter</td>\n",
       "      <td>Richard Bruce Wright</td>\n",
       "      <td>The Teacher's Daughter</td>\n",
       "      <td>Richard Bruce Wright</td>\n",
       "      <td>Richard Bruce Wright</td>\n",
       "      <td>Richard Bruce Wright</td>\n",
       "      <td>64022406</td>\n",
       "      <td>Q7323887</td>\n",
       "    </tr>\n",
       "    <tr>\n",
       "      <th>183415</th>\n",
       "      <td>0060506067</td>\n",
       "      <td>Clara Callan : A Novel</td>\n",
       "      <td>Richard B. Wright</td>\n",
       "      <td>Clara Callan</td>\n",
       "      <td>Richard B. Wright</td>\n",
       "      <td>Richard B. Wright</td>\n",
       "      <td>Richard B. Wright</td>\n",
       "      <td>64022406</td>\n",
       "      <td>Q7323887</td>\n",
       "    </tr>\n",
       "    <tr>\n",
       "      <th>183416</th>\n",
       "      <td>0060506075</td>\n",
       "      <td>Clara Callan : A Novel</td>\n",
       "      <td>Richard B. Wright</td>\n",
       "      <td>Clara Callan</td>\n",
       "      <td>Richard B. Wright</td>\n",
       "      <td>Richard B. Wright</td>\n",
       "      <td>Richard B. Wright</td>\n",
       "      <td>64022406</td>\n",
       "      <td>Q7323887</td>\n",
       "    </tr>\n",
       "    <tr>\n",
       "      <th>217653</th>\n",
       "      <td>000224408X</td>\n",
       "      <td>The age of longing: A novel</td>\n",
       "      <td>Richard B Wright</td>\n",
       "      <td>The Age of Longing</td>\n",
       "      <td>Richard Bruce Wright</td>\n",
       "      <td>Richard Bruce Wright</td>\n",
       "      <td>Richard Bruce Wright</td>\n",
       "      <td>64022406</td>\n",
       "      <td>Q7323887</td>\n",
       "    </tr>\n",
       "    <tr>\n",
       "      <th>...</th>\n",
       "      <td>...</td>\n",
       "      <td>...</td>\n",
       "      <td>...</td>\n",
       "      <td>...</td>\n",
       "      <td>...</td>\n",
       "      <td>...</td>\n",
       "      <td>...</td>\n",
       "      <td>...</td>\n",
       "      <td>...</td>\n",
       "    </tr>\n",
       "    <tr>\n",
       "      <th>269257</th>\n",
       "      <td>3453047192</td>\n",
       "      <td>Die amerikanische Zumutung: PlÃ¤doyers gegen d...</td>\n",
       "      <td>Rolf Winter</td>\n",
       "      <td>Die amerikanische Zumutung</td>\n",
       "      <td>Rolf Winter</td>\n",
       "      <td>Rolf Winter</td>\n",
       "      <td>Rolf Winter</td>\n",
       "      <td>39470984</td>\n",
       "      <td>Q104721</td>\n",
       "    </tr>\n",
       "    <tr>\n",
       "      <th>269260</th>\n",
       "      <td>0747204020</td>\n",
       "      <td>Illustrated Encyclopedia of Cacti</td>\n",
       "      <td>Glass Charles</td>\n",
       "      <td>The Illustrated Encyclopaedia of Cacti</td>\n",
       "      <td>Clive Innes|Charles Glass</td>\n",
       "      <td>Charles Glass</td>\n",
       "      <td>Clive Innes</td>\n",
       "      <td>86432382</td>\n",
       "      <td>Q5078055</td>\n",
       "    </tr>\n",
       "    <tr>\n",
       "      <th>269264</th>\n",
       "      <td>3525335423</td>\n",
       "      <td>Das Deutsche Kaiserreich 1871-1918.</td>\n",
       "      <td>Hans-Ulrich Wehler</td>\n",
       "      <td>Das Deutsche Kaiserreich, 1871-1918</td>\n",
       "      <td>Hans-Ulrich Wehler</td>\n",
       "      <td>Hans-Ulrich Wehler</td>\n",
       "      <td>Hans-Ulrich Wehler</td>\n",
       "      <td>108252200</td>\n",
       "      <td>Q66155</td>\n",
       "    </tr>\n",
       "    <tr>\n",
       "      <th>269267</th>\n",
       "      <td>020130998X</td>\n",
       "      <td>The Unified Modeling Language Reference Manual...</td>\n",
       "      <td>James Rumbaugh</td>\n",
       "      <td>The Unified Modeling Language Reference Manual</td>\n",
       "      <td>James Rumbaugh|A. Jacobson|Ivar Jacobson|Grady...</td>\n",
       "      <td>James Rumbaugh</td>\n",
       "      <td>James Rumbaugh</td>\n",
       "      <td>66578490</td>\n",
       "      <td>Q92790</td>\n",
       "    </tr>\n",
       "    <tr>\n",
       "      <th>269270</th>\n",
       "      <td>1582380805</td>\n",
       "      <td>Tropical Rainforests: 230 Species in Full Colo...</td>\n",
       "      <td>Allen M., Ph.D. Young</td>\n",
       "      <td>Tropical Rainforests</td>\n",
       "      <td>Allen M. Young</td>\n",
       "      <td>Allen M. Young</td>\n",
       "      <td>Allen M. Young</td>\n",
       "      <td>25946864</td>\n",
       "      <td>Q106377185</td>\n",
       "    </tr>\n",
       "  </tbody>\n",
       "</table>\n",
       "<p>185177 rows × 9 columns</p>\n",
       "</div>"
      ],
      "text/plain": [
       "              ISBN                                              title  \\\n",
       "index                                                                   \n",
       "2       0002005018                                       Clara Callan   \n",
       "3       0771597185                             The teacher's daughter   \n",
       "183415  0060506067                             Clara Callan : A Novel   \n",
       "183416  0060506075                             Clara Callan : A Novel   \n",
       "217653  000224408X                        The age of longing: A novel   \n",
       "...            ...                                                ...   \n",
       "269257  3453047192  Die amerikanische Zumutung: PlÃ¤doyers gegen d...   \n",
       "269260  0747204020                  Illustrated Encyclopedia of Cacti   \n",
       "269264  3525335423                Das Deutsche Kaiserreich 1871-1918.   \n",
       "269267  020130998X  The Unified Modeling Language Reference Manual...   \n",
       "269270  1582380805  Tropical Rainforests: 230 Species in Full Colo...   \n",
       "\n",
       "                       author                                       alt_title  \\\n",
       "index                                                                           \n",
       "2        Richard Bruce Wright                                    Clara Callan   \n",
       "3        Richard Bruce Wright                          The Teacher's Daughter   \n",
       "183415      Richard B. Wright                                    Clara Callan   \n",
       "183416      Richard B. Wright                                    Clara Callan   \n",
       "217653       Richard B Wright                              The Age of Longing   \n",
       "...                       ...                                             ...   \n",
       "269257            Rolf Winter                      Die amerikanische Zumutung   \n",
       "269260          Glass Charles          The Illustrated Encyclopaedia of Cacti   \n",
       "269264     Hans-Ulrich Wehler             Das Deutsche Kaiserreich, 1871-1918   \n",
       "269267         James Rumbaugh  The Unified Modeling Language Reference Manual   \n",
       "269270  Allen M., Ph.D. Young                            Tropical Rainforests   \n",
       "\n",
       "                                               alt_author  \\\n",
       "index                                                       \n",
       "2                                    Richard Bruce Wright   \n",
       "3                                    Richard Bruce Wright   \n",
       "183415                                  Richard B. Wright   \n",
       "183416                                  Richard B. Wright   \n",
       "217653                               Richard Bruce Wright   \n",
       "...                                                   ...   \n",
       "269257                                        Rolf Winter   \n",
       "269260                          Clive Innes|Charles Glass   \n",
       "269264                                 Hans-Ulrich Wehler   \n",
       "269267  James Rumbaugh|A. Jacobson|Ivar Jacobson|Grady...   \n",
       "269270                                     Allen M. Young   \n",
       "\n",
       "              correct_author      alt_first_author    viaf_id         QID  \n",
       "index                                                                      \n",
       "2       Richard Bruce Wright  Richard Bruce Wright   64022406    Q7323887  \n",
       "3       Richard Bruce Wright  Richard Bruce Wright   64022406    Q7323887  \n",
       "183415     Richard B. Wright     Richard B. Wright   64022406    Q7323887  \n",
       "183416     Richard B. Wright     Richard B. Wright   64022406    Q7323887  \n",
       "217653  Richard Bruce Wright  Richard Bruce Wright   64022406    Q7323887  \n",
       "...                      ...                   ...        ...         ...  \n",
       "269257           Rolf Winter           Rolf Winter   39470984     Q104721  \n",
       "269260         Charles Glass           Clive Innes   86432382    Q5078055  \n",
       "269264    Hans-Ulrich Wehler    Hans-Ulrich Wehler  108252200      Q66155  \n",
       "269267        James Rumbaugh        James Rumbaugh   66578490      Q92790  \n",
       "269270        Allen M. Young        Allen M. Young   25946864  Q106377185  \n",
       "\n",
       "[185177 rows x 9 columns]"
      ]
     },
     "execution_count": 4,
     "metadata": {},
     "output_type": "execute_result"
    }
   ],
   "source": [
    "final_dataset"
   ]
  },
  {
   "cell_type": "code",
   "execution_count": 5,
   "id": "b7d842ef",
   "metadata": {},
   "outputs": [],
   "source": [
    "unique_authors = final_dataset.drop_duplicates([\"viaf_id\",\"QID\"])"
   ]
  },
  {
   "cell_type": "code",
   "execution_count": 6,
   "id": "0c99e75b",
   "metadata": {},
   "outputs": [
    {
     "data": {
      "text/plain": [
       "39642"
      ]
     },
     "execution_count": 6,
     "metadata": {},
     "output_type": "execute_result"
    }
   ],
   "source": [
    "len(unique_authors)"
   ]
  },
  {
   "cell_type": "code",
   "execution_count": 5,
   "id": "2a0dfab5",
   "metadata": {},
   "outputs": [],
   "source": [
    "unique_authors.to_csv(\"data/final_authors_before_properties.csv\")"
   ]
  },
  {
   "cell_type": "markdown",
   "id": "e03a7baf",
   "metadata": {},
   "source": [
    "# Run Wikidata"
   ]
  },
  {
   "cell_type": "code",
   "execution_count": 6,
   "id": "b11eb8eb",
   "metadata": {},
   "outputs": [
    {
     "name": "stderr",
     "output_type": "stream",
     "text": [
      "/export/scratch2/home/savvina/new_environment/lib64/python3.6/site-packages/ipykernel_launcher.py:2: SettingWithCopyWarning: \n",
      "A value is trying to be set on a copy of a slice from a DataFrame.\n",
      "Try using .loc[row_indexer,col_indexer] = value instead\n",
      "\n",
      "See the caveats in the documentation: https://pandas.pydata.org/pandas-docs/stable/user_guide/indexing.html#returning-a-view-versus-a-copy\n",
      "  \n"
     ]
    }
   ],
   "source": [
    "for k,v in properties.items():\n",
    "    unique_authors[k]=\"\""
   ]
  },
  {
   "cell_type": "code",
   "execution_count": 10,
   "id": "e0d65be9",
   "metadata": {},
   "outputs": [
    {
     "name": "stdout",
     "output_type": "stream",
     "text": [
      "Q6151251 164842063\n",
      "100 is gone!!!!!!!!!!!!!!!!!!!!!!!!!!!!!!!!!!!!!!!!!!!!!!!!!!!!!!!!!!!!!! 268729\n",
      "0.2088935375213623\n",
      "Q6175779 7583029\n",
      "100 is gone!!!!!!!!!!!!!!!!!!!!!!!!!!!!!!!!!!!!!!!!!!!!!!!!!!!!!!!!!!!!!! 269101\n",
      "31.931270837783813\n"
     ]
    }
   ],
   "source": [
    "start = time.time()\n",
    "i=0\n",
    "for index,row in unique_authors.iterrows():\n",
    "    author_qid = row[\"QID\"]\n",
    "    author_dict = get_entity_dict_from_api(author_qid)\n",
    "    \n",
    "    try:\n",
    "        assert author_dict[\"claims\"][\"P214\"][0][\"mainsnak\"][\"datavalue\"][\"value\"]==row[\"viaf_id\"]\n",
    "    except:\n",
    "        print(author_qid, row[\"viaf_id\"])\n",
    "        \n",
    "    for prop, qid in properties.items():\n",
    "        if prop==\"birthyear\" or prop==\"deathyear\":\n",
    "            try:\n",
    "                value = [x[\"mainsnak\"][\"datavalue\"][\"value\"][\"time\"] for x in author_dict[\"claims\"][qid]]\n",
    "            except:\n",
    "                value = \"\"\n",
    "        else:\n",
    "            try:\n",
    "                value = [x[\"mainsnak\"][\"datavalue\"][\"value\"][\"id\"] for x in author_dict[\"claims\"][qid]]\n",
    "            except:\n",
    "                value = \"\"\n",
    "        unique_authors.at[index,prop] = value\n",
    "    if i%100==0:\n",
    "        print(\"100 is gone!!!!!!!!!!!!!!!!!!!!!!!!!!!!!!!!!!!!!!!!!!!!!!!!!!!!!!!!!!!!!!\", index)\n",
    "        print(time.time()-start)\n",
    "    if i%500==0:\n",
    "        unique_authors.to_csv('data/final_authors_after_properties.csv')\n",
    "    i+=1\n",
    "unique_authors.to_csv('data/final_authors_after_properties.csv')"
   ]
  },
  {
   "cell_type": "code",
   "execution_count": 14,
   "id": "1164b54f",
   "metadata": {},
   "outputs": [
    {
     "data": {
      "text/plain": [
       "\"['Q16']\""
      ]
     },
     "execution_count": 14,
     "metadata": {},
     "output_type": "execute_result"
    }
   ],
   "source": [
    "unique_authors.country[2]"
   ]
  },
  {
   "cell_type": "code",
   "execution_count": null,
   "id": "9804336d",
   "metadata": {},
   "outputs": [],
   "source": []
  }
 ],
 "metadata": {
  "kernelspec": {
   "display_name": "Python 3",
   "language": "python",
   "name": "python3"
  },
  "language_info": {
   "codemirror_mode": {
    "name": "ipython",
    "version": 3
   },
   "file_extension": ".py",
   "mimetype": "text/x-python",
   "name": "python",
   "nbconvert_exporter": "python",
   "pygments_lexer": "ipython3",
   "version": "3.6.5"
  }
 },
 "nbformat": 4,
 "nbformat_minor": 5
}
