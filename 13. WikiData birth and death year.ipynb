{
 "cells": [
  {
   "cell_type": "code",
   "execution_count": 2,
   "id": "9bdd526f",
   "metadata": {},
   "outputs": [
    {
     "ename": "ModuleNotFoundError",
     "evalue": "No module named 'qwikidata'",
     "output_type": "error",
     "traceback": [
      "\u001b[0;31m---------------------------------------------------------------------------\u001b[0m",
      "\u001b[0;31mModuleNotFoundError\u001b[0m                       Traceback (most recent call last)",
      "Input \u001b[0;32mIn [2]\u001b[0m, in \u001b[0;36m<cell line: 8>\u001b[0;34m()\u001b[0m\n\u001b[1;32m      6\u001b[0m \u001b[38;5;28;01mimport\u001b[39;00m \u001b[38;5;21;01mnumpy\u001b[39;00m \u001b[38;5;28;01mas\u001b[39;00m \u001b[38;5;21;01mnp\u001b[39;00m\n\u001b[1;32m      7\u001b[0m \u001b[38;5;28;01mimport\u001b[39;00m \u001b[38;5;21;01mmatplotlib\u001b[39;00m\u001b[38;5;21;01m.\u001b[39;00m\u001b[38;5;21;01mpylab\u001b[39;00m \u001b[38;5;28;01mas\u001b[39;00m \u001b[38;5;21;01mplt\u001b[39;00m\n\u001b[0;32m----> 8\u001b[0m \u001b[38;5;28;01mfrom\u001b[39;00m \u001b[38;5;21;01mqwikidata\u001b[39;00m\u001b[38;5;21;01m.\u001b[39;00m\u001b[38;5;21;01mentity\u001b[39;00m \u001b[38;5;28;01mimport\u001b[39;00m WikidataItem, WikidataLexeme, WikidataProperty\n\u001b[1;32m      9\u001b[0m \u001b[38;5;28;01mfrom\u001b[39;00m \u001b[38;5;21;01mqwikidata\u001b[39;00m\u001b[38;5;21;01m.\u001b[39;00m\u001b[38;5;21;01mlinked_data_interface\u001b[39;00m \u001b[38;5;28;01mimport\u001b[39;00m get_entity_dict_from_api\n",
      "\u001b[0;31mModuleNotFoundError\u001b[0m: No module named 'qwikidata'"
     ]
    }
   ],
   "source": [
    "import pandas as pd\n",
    "import pickle as pkl\n",
    "import time\n",
    "import regex as re\n",
    "from collections import Counter\n",
    "import numpy as np\n",
    "import matplotlib.pylab as plt\n",
    "from qwikidata.entity import WikidataItem, WikidataLexeme, WikidataProperty\n",
    "from qwikidata.linked_data_interface import get_entity_dict_from_api"
   ]
  },
  {
   "cell_type": "markdown",
   "id": "0f471361",
   "metadata": {},
   "source": [
    "# Read file"
   ]
  },
  {
   "cell_type": "code",
   "execution_count": null,
   "id": "7fdc113d",
   "metadata": {},
   "outputs": [],
   "source": [
    "authors = pd.read_csv(\"data/final_authors_after_properties_and_decoding.csv\", low_memory=False, index_col=0).fillna(\"\")"
   ]
  },
  {
   "cell_type": "code",
   "execution_count": null,
   "id": "949723c1",
   "metadata": {},
   "outputs": [],
   "source": [
    "authors[[\"birthyear\", \"deathyear\"]]"
   ]
  },
  {
   "cell_type": "markdown",
   "id": "93467648",
   "metadata": {},
   "source": [
    "# Keep date"
   ]
  },
  {
   "cell_type": "code",
   "execution_count": 61,
   "id": "f738a916",
   "metadata": {},
   "outputs": [],
   "source": [
    "for index, row in authors[[\"birthyear\", \"deathyear\"]].iterrows():\n",
    "    b = row.birthyear\n",
    "    d = row.deathyear\n",
    "    if b!=\"\":\n",
    "        bs = b.split(\", \")\n",
    "        b_entry = bs[0]\n",
    "        new_b = b_entry[:5]\n",
    "        authors.at[index, \"birthyear\"] = new_b\n",
    "        \n",
    "    if d!=\"\":\n",
    "        ds = d.split(\", \")\n",
    "        d_entry = ds[0]\n",
    "        new_d = d_entry[:5]\n",
    "        authors.at[index, \"deathyear\"] = new_d"
   ]
  },
  {
   "cell_type": "code",
   "execution_count": 62,
   "id": "4cdeb841",
   "metadata": {},
   "outputs": [
    {
     "data": {
      "text/html": [
       "<div>\n",
       "<style scoped>\n",
       "    .dataframe tbody tr th:only-of-type {\n",
       "        vertical-align: middle;\n",
       "    }\n",
       "\n",
       "    .dataframe tbody tr th {\n",
       "        vertical-align: top;\n",
       "    }\n",
       "\n",
       "    .dataframe thead th {\n",
       "        text-align: right;\n",
       "    }\n",
       "</style>\n",
       "<table border=\"1\" class=\"dataframe\">\n",
       "  <thead>\n",
       "    <tr style=\"text-align: right;\">\n",
       "      <th></th>\n",
       "      <th>birthyear</th>\n",
       "      <th>deathyear</th>\n",
       "    </tr>\n",
       "    <tr>\n",
       "      <th>index</th>\n",
       "      <th></th>\n",
       "      <th></th>\n",
       "    </tr>\n",
       "  </thead>\n",
       "  <tbody>\n",
       "    <tr>\n",
       "      <th>2</th>\n",
       "      <td>+1937</td>\n",
       "      <td>+2017</td>\n",
       "    </tr>\n",
       "    <tr>\n",
       "      <th>4</th>\n",
       "      <td>+1936</td>\n",
       "      <td>+2020</td>\n",
       "    </tr>\n",
       "    <tr>\n",
       "      <th>7</th>\n",
       "      <td>+1948</td>\n",
       "      <td></td>\n",
       "    </tr>\n",
       "    <tr>\n",
       "      <th>9</th>\n",
       "      <td>+1940</td>\n",
       "      <td></td>\n",
       "    </tr>\n",
       "    <tr>\n",
       "      <th>10</th>\n",
       "      <td>+1952</td>\n",
       "      <td></td>\n",
       "    </tr>\n",
       "    <tr>\n",
       "      <th>...</th>\n",
       "      <td>...</td>\n",
       "      <td>...</td>\n",
       "    </tr>\n",
       "    <tr>\n",
       "      <th>269257</th>\n",
       "      <td>+1927</td>\n",
       "      <td>+2005</td>\n",
       "    </tr>\n",
       "    <tr>\n",
       "      <th>269260</th>\n",
       "      <td>+1951</td>\n",
       "      <td></td>\n",
       "    </tr>\n",
       "    <tr>\n",
       "      <th>269264</th>\n",
       "      <td>+1931</td>\n",
       "      <td>+2014</td>\n",
       "    </tr>\n",
       "    <tr>\n",
       "      <th>269267</th>\n",
       "      <td>+1947</td>\n",
       "      <td></td>\n",
       "    </tr>\n",
       "    <tr>\n",
       "      <th>269270</th>\n",
       "      <td></td>\n",
       "      <td></td>\n",
       "    </tr>\n",
       "  </tbody>\n",
       "</table>\n",
       "<p>39642 rows × 2 columns</p>\n",
       "</div>"
      ],
      "text/plain": [
       "       birthyear deathyear\n",
       "index                     \n",
       "2          +1937     +2017\n",
       "4          +1936     +2020\n",
       "7          +1948          \n",
       "9          +1940          \n",
       "10         +1952          \n",
       "...          ...       ...\n",
       "269257     +1927     +2005\n",
       "269260     +1951          \n",
       "269264     +1931     +2014\n",
       "269267     +1947          \n",
       "269270                    \n",
       "\n",
       "[39642 rows x 2 columns]"
      ]
     },
     "execution_count": 62,
     "metadata": {},
     "output_type": "execute_result"
    }
   ],
   "source": [
    "authors[[\"birthyear\", \"deathyear\"]]"
   ]
  },
  {
   "cell_type": "markdown",
   "id": "eea9cc89",
   "metadata": {},
   "source": [
    "# DONE"
   ]
  },
  {
   "cell_type": "code",
   "execution_count": 67,
   "id": "69a91a6c",
   "metadata": {},
   "outputs": [],
   "source": [
    "authors.to_csv(\"data/final_authors_after_properties_and_decoding_and_years.csv\")"
   ]
  }
 ],
 "metadata": {
  "kernelspec": {
   "display_name": "Python 3 (ipykernel)",
   "language": "python",
   "name": "python3"
  },
  "language_info": {
   "codemirror_mode": {
    "name": "ipython",
    "version": 3
   },
   "file_extension": ".py",
   "mimetype": "text/x-python",
   "name": "python",
   "nbconvert_exporter": "python",
   "pygments_lexer": "ipython3",
   "version": "3.9.12"
  }
 },
 "nbformat": 4,
 "nbformat_minor": 5
}
