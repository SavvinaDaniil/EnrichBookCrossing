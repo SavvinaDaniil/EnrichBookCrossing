{
 "cells": [
  {
   "cell_type": "markdown",
   "id": "23172571",
   "metadata": {},
   "source": [
    "# Process\n",
    "In this notebook, I will create the final 6 datasets.\n",
    "1. Entire Dataset\n",
    "    1. Books\n",
    "    3. Ratings\n",
    "2. FairBook Dataset\n",
    "    1. Books\n",
    "    3. Ratings"
   ]
  },
  {
   "cell_type": "markdown",
   "id": "35145ad5",
   "metadata": {},
   "source": [
    "# Import Libraries"
   ]
  },
  {
   "cell_type": "code",
   "execution_count": 1,
   "id": "ba0107bf",
   "metadata": {},
   "outputs": [],
   "source": [
    "import pandas as pd\n",
    "import pickle as pkl\n",
    "import time\n",
    "import regex as re\n",
    "from collections import Counter\n",
    "import numpy as np\n",
    "import matplotlib.pylab as plt"
   ]
  },
  {
   "cell_type": "markdown",
   "id": "bbc874e7",
   "metadata": {},
   "source": [
    "# Read Files"
   ]
  },
  {
   "cell_type": "code",
   "execution_count": 3,
   "id": "f619bb4d",
   "metadata": {},
   "outputs": [],
   "source": [
    "wikidata_authors = pd.read_csv(\"data/final_authors_after_properties_and_decoding_and_years.csv\", low_memory=False, index_col=0).fillna(\"\")"
   ]
  },
  {
   "cell_type": "code",
   "execution_count": 8,
   "id": "471f04a1",
   "metadata": {},
   "outputs": [],
   "source": [
    "wikidata_authors = wikidata_authors[[\"ISBN\", \"viaf_id\", \"QID\", \"sexuality\",\"country\",\"language\",\"religion\",\"gender\", \"ethnicity\", \"birthyear\",\"deathyear\"]]"
   ]
  },
  {
   "cell_type": "code",
   "execution_count": 22,
   "id": "8ed3629c",
   "metadata": {},
   "outputs": [],
   "source": [
    "wikidata_books = pd.read_csv(\"data/final_dataset_before_properties.csv\", low_memory=False, index_col=0).fillna(\"\")"
   ]
  },
  {
   "cell_type": "markdown",
   "id": "a5c31d42",
   "metadata": {},
   "source": [
    "# Create Datasets"
   ]
  },
  {
   "cell_type": "markdown",
   "id": "7ce4b401",
   "metadata": {},
   "source": [
    "## Entire Dataset"
   ]
  },
  {
   "cell_type": "markdown",
   "id": "e3ab676e",
   "metadata": {},
   "source": [
    "### Books"
   ]
  },
  {
   "cell_type": "markdown",
   "id": "b968e5bb",
   "metadata": {},
   "source": [
    "First, fill the WikiData books with properties."
   ]
  },
  {
   "cell_type": "code",
   "execution_count": 26,
   "id": "95e274bc",
   "metadata": {},
   "outputs": [],
   "source": [
    "wikidata_books = wikidata_books[[\"QID\",\"viaf_id\",\"ISBN\"]]\n",
    "wikidata_books = pd.merge(wikidata_books, wikidata_authors.drop(\"ISBN\", axis=1), on=[\"viaf_id\",\"QID\"], how=\"left\")"
   ]
  },
  {
   "cell_type": "markdown",
   "id": "6a54e68f",
   "metadata": {},
   "source": [
    "Now read entire dataset."
   ]
  },
  {
   "cell_type": "code",
   "execution_count": 21,
   "id": "78e99c8c",
   "metadata": {},
   "outputs": [],
   "source": [
    "all_books = pd.read_csv(\"data/items_books_latin.csv\", index_col=0, low_memory=False).fillna(\"\")"
   ]
  },
  {
   "cell_type": "markdown",
   "id": "168ca08e",
   "metadata": {},
   "source": [
    "Now fill, by merging."
   ]
  },
  {
   "cell_type": "code",
   "execution_count": 32,
   "id": "b2962973",
   "metadata": {},
   "outputs": [],
   "source": [
    "final_books = pd.merge(wikidata_books, all_books, on=[\"ISBN\"], how=\"right\").fillna(\"\")"
   ]
  },
  {
   "cell_type": "markdown",
   "id": "d85321d3",
   "metadata": {},
   "source": [
    "### Ratings"
   ]
  },
  {
   "cell_type": "code",
   "execution_count": 33,
   "id": "42964c32",
   "metadata": {},
   "outputs": [],
   "source": [
    "ratings = pd.read_csv(\"data/ratings_books.csv\", low_memory=False).fillna(\"\")\n",
    "ratings = ratings[ratings[\"Book-Rating\"]!=0]"
   ]
  },
  {
   "cell_type": "code",
   "execution_count": 37,
   "id": "0e9dc24b",
   "metadata": {},
   "outputs": [],
   "source": [
    "final_ratings = pd.merge(ratings,final_books,on=\"ISBN\", how=\"left\").fillna(\"\")"
   ]
  },
  {
   "cell_type": "markdown",
   "id": "29d58f25",
   "metadata": {},
   "source": [
    "## Fairbook"
   ]
  },
  {
   "cell_type": "code",
   "execution_count": 38,
   "id": "9fa55c2d",
   "metadata": {},
   "outputs": [],
   "source": [
    "fairbook_ratings = pd.read_csv(\"data/fairbook_ratings.csv\", index_col=0, low_memory=False).fillna(\"\")"
   ]
  },
  {
   "cell_type": "code",
   "execution_count": 39,
   "id": "c2a5b946",
   "metadata": {},
   "outputs": [],
   "source": [
    "fairbook_ISBNs = fairbook_ratings.ISBN.drop_duplicates()"
   ]
  },
  {
   "cell_type": "markdown",
   "id": "2fd1c6fe",
   "metadata": {},
   "source": [
    "### Books"
   ]
  },
  {
   "cell_type": "code",
   "execution_count": 40,
   "id": "0dea1fea",
   "metadata": {},
   "outputs": [],
   "source": [
    "fairbook_books = pd.merge(fairbook_ISBNs,final_books, on = \"ISBN\", how=\"left\").fillna(\"\")\n",
    "#.gender.unique()"
   ]
  },
  {
   "cell_type": "markdown",
   "id": "0a032b75",
   "metadata": {},
   "source": [
    "### Ratings"
   ]
  },
  {
   "cell_type": "code",
   "execution_count": 47,
   "id": "cf583210",
   "metadata": {},
   "outputs": [],
   "source": [
    "fairbook_ratings = pd.merge(fairbook_ratings,final_books,on=\"ISBN\", how=\"left\").fillna(\"\")"
   ]
  },
  {
   "cell_type": "markdown",
   "id": "986a7318",
   "metadata": {},
   "source": [
    "# Save!!!!!!!!!"
   ]
  },
  {
   "cell_type": "code",
   "execution_count": 51,
   "id": "b170922d",
   "metadata": {},
   "outputs": [],
   "source": [
    "final_books.to_csv(\"data/final_files/entire_books.csv\")\n",
    "final_ratings.to_csv(\"data/final_files/entire_ratings.csv\")\n",
    "fairbook_books.to_csv(\"data/final_files/fairbook_books.csv\")\n",
    "fairbook_ratings.to_csv(\"data/final_files/fairbook_ratings.csv\")"
   ]
  }
 ],
 "metadata": {
  "kernelspec": {
   "display_name": "Python 3",
   "language": "python",
   "name": "python3"
  },
  "language_info": {
   "codemirror_mode": {
    "name": "ipython",
    "version": 3
   },
   "file_extension": ".py",
   "mimetype": "text/x-python",
   "name": "python",
   "nbconvert_exporter": "python",
   "pygments_lexer": "ipython3",
   "version": "3.6.5"
  }
 },
 "nbformat": 4,
 "nbformat_minor": 5
}
