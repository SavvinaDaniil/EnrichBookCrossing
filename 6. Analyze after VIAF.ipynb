{
 "cells": [
  {
   "cell_type": "markdown",
   "id": "3c4385ed",
   "metadata": {},
   "source": [
    "# Import Libraries"
   ]
  },
  {
   "cell_type": "code",
   "execution_count": 1,
   "id": "7512c196",
   "metadata": {},
   "outputs": [],
   "source": [
    "from viapy.api import ViafAPI, ViafEntity, SRUResult, SRUItem\n",
    "import pandas as pd\n",
    "import pickle as pkl\n",
    "import time"
   ]
  },
  {
   "cell_type": "markdown",
   "id": "15489245",
   "metadata": {},
   "source": [
    "# Read Files"
   ]
  },
  {
   "cell_type": "code",
   "execution_count": 2,
   "id": "00c44651",
   "metadata": {},
   "outputs": [],
   "source": [
    "books = pd.read_csv(\"data/items_books_after_viaf.csv\", low_memory = False, index_col=0).fillna(\"\")"
   ]
  },
  {
   "cell_type": "code",
   "execution_count": 5,
   "id": "714bae03",
   "metadata": {},
   "outputs": [],
   "source": [
    "books_with_ISBN_results = books[books.alt_author!=\"\"]"
   ]
  },
  {
   "cell_type": "code",
   "execution_count": 7,
   "id": "e52a33af",
   "metadata": {},
   "outputs": [],
   "source": [
    "no_results_books = len(books[(books.alt_author==\"\")])"
   ]
  },
  {
   "cell_type": "code",
   "execution_count": 8,
   "id": "0c72d859",
   "metadata": {},
   "outputs": [
    {
     "data": {
      "text/plain": [
       "10134"
      ]
     },
     "execution_count": 8,
     "metadata": {},
     "output_type": "execute_result"
    }
   ],
   "source": [
    "no_results_books"
   ]
  },
  {
   "cell_type": "code",
   "execution_count": 9,
   "id": "78035623",
   "metadata": {},
   "outputs": [
    {
     "data": {
      "text/plain": [
       "271360"
      ]
     },
     "execution_count": 9,
     "metadata": {},
     "output_type": "execute_result"
    }
   ],
   "source": [
    "len(books)"
   ]
  },
  {
   "cell_type": "code",
   "execution_count": 10,
   "id": "56f3bf83",
   "metadata": {},
   "outputs": [],
   "source": [
    "authors_with_viaf = books_with_ISBN_results[[\"correct_author\", \"viaf_id\"]].loc[books.viaf_id!=\"\"]\n"
   ]
  },
  {
   "cell_type": "code",
   "execution_count": 7,
   "id": "84f13899",
   "metadata": {},
   "outputs": [
    {
     "data": {
      "text/html": [
       "<div>\n",
       "<style scoped>\n",
       "    .dataframe tbody tr th:only-of-type {\n",
       "        vertical-align: middle;\n",
       "    }\n",
       "\n",
       "    .dataframe tbody tr th {\n",
       "        vertical-align: top;\n",
       "    }\n",
       "\n",
       "    .dataframe thead th {\n",
       "        text-align: right;\n",
       "    }\n",
       "</style>\n",
       "<table border=\"1\" class=\"dataframe\">\n",
       "  <thead>\n",
       "    <tr style=\"text-align: right;\">\n",
       "      <th></th>\n",
       "      <th>correct_author</th>\n",
       "      <th>viaf_id</th>\n",
       "    </tr>\n",
       "  </thead>\n",
       "  <tbody>\n",
       "    <tr>\n",
       "      <th>0</th>\n",
       "      <td>Mark P. O. Morford</td>\n",
       "      <td>9.22206e+07</td>\n",
       "    </tr>\n",
       "  </tbody>\n",
       "</table>\n",
       "</div>"
      ],
      "text/plain": [
       "       correct_author      viaf_id\n",
       "0  Mark P. O. Morford  9.22206e+07"
      ]
     },
     "execution_count": 7,
     "metadata": {},
     "output_type": "execute_result"
    }
   ],
   "source": [
    "authors_with_viaf"
   ]
  },
  {
   "cell_type": "code",
   "execution_count": 7,
   "id": "3bc250ac",
   "metadata": {},
   "outputs": [],
   "source": [
    "books_with_ISBN_results = books_with_ISBN_results.drop(\"viaf_id\", axis =1)"
   ]
  },
  {
   "cell_type": "code",
   "execution_count": 8,
   "id": "4e9a4563",
   "metadata": {},
   "outputs": [],
   "source": [
    "books_with_ISBN_results_and_viaf = pd.merge(books_with_ISBN_results.reset_index(), authors_with_viaf, on=\"correct_author\").set_index(\"index\")"
   ]
  },
  {
   "cell_type": "code",
   "execution_count": 10,
   "id": "15ec84c3",
   "metadata": {},
   "outputs": [
    {
     "data": {
      "text/html": [
       "<div>\n",
       "<style scoped>\n",
       "    .dataframe tbody tr th:only-of-type {\n",
       "        vertical-align: middle;\n",
       "    }\n",
       "\n",
       "    .dataframe tbody tr th {\n",
       "        vertical-align: top;\n",
       "    }\n",
       "\n",
       "    .dataframe thead th {\n",
       "        text-align: right;\n",
       "    }\n",
       "</style>\n",
       "<table border=\"1\" class=\"dataframe\">\n",
       "  <thead>\n",
       "    <tr style=\"text-align: right;\">\n",
       "      <th></th>\n",
       "      <th>ISBN</th>\n",
       "      <th>title</th>\n",
       "      <th>author</th>\n",
       "      <th>year</th>\n",
       "      <th>publisher</th>\n",
       "      <th>alt_title</th>\n",
       "      <th>alt_author</th>\n",
       "      <th>correct_author</th>\n",
       "      <th>alt_first_author</th>\n",
       "      <th>viaf_id</th>\n",
       "    </tr>\n",
       "    <tr>\n",
       "      <th>index</th>\n",
       "      <th></th>\n",
       "      <th></th>\n",
       "      <th></th>\n",
       "      <th></th>\n",
       "      <th></th>\n",
       "      <th></th>\n",
       "      <th></th>\n",
       "      <th></th>\n",
       "      <th></th>\n",
       "      <th></th>\n",
       "    </tr>\n",
       "  </thead>\n",
       "  <tbody>\n",
       "    <tr>\n",
       "      <th>0</th>\n",
       "      <td>0195153448</td>\n",
       "      <td>Classical Mythology</td>\n",
       "      <td>Mark P. O. Morford</td>\n",
       "      <td>2002</td>\n",
       "      <td>Oxford University Press</td>\n",
       "      <td>Classical Mythology</td>\n",
       "      <td>Mark P. O. Morford|Robert J. Lenardon</td>\n",
       "      <td>Mark P. O. Morford</td>\n",
       "      <td>Mark P. O. Morford</td>\n",
       "      <td>92220559</td>\n",
       "    </tr>\n",
       "    <tr>\n",
       "      <th>1</th>\n",
       "      <td>0801319536</td>\n",
       "      <td>Classical Mythology</td>\n",
       "      <td>Mark P. O. Morford</td>\n",
       "      <td>1998</td>\n",
       "      <td>John Wiley &amp;amp; Sons</td>\n",
       "      <td>Classical Mythology</td>\n",
       "      <td>Mark P. O. Morford|Robert J. Lenardon</td>\n",
       "      <td>Mark P. O. Morford</td>\n",
       "      <td>Mark P. O. Morford</td>\n",
       "      <td>92220559</td>\n",
       "    </tr>\n",
       "    <tr>\n",
       "      <th>200487</th>\n",
       "      <td>0582280044</td>\n",
       "      <td>Classical mythology</td>\n",
       "      <td>Mark P.O Morford</td>\n",
       "      <td>1985</td>\n",
       "      <td>Longman</td>\n",
       "      <td>Classical Mythology</td>\n",
       "      <td>Mark P. O. Morford|Robert J. Lenardon</td>\n",
       "      <td>Mark P. O. Morford</td>\n",
       "      <td>Mark P. O. Morford</td>\n",
       "      <td>92220559</td>\n",
       "    </tr>\n",
       "    <tr>\n",
       "      <th>239954</th>\n",
       "      <td>0801304652</td>\n",
       "      <td>Classical mythology</td>\n",
       "      <td>Mark P. O Morford</td>\n",
       "      <td>1991</td>\n",
       "      <td>Longman</td>\n",
       "      <td>Classical Mythology</td>\n",
       "      <td>Mark P. O. Morford|Robert J. Lenardon</td>\n",
       "      <td>Mark P. O. Morford</td>\n",
       "      <td>Mark P. O. Morford</td>\n",
       "      <td>92220559</td>\n",
       "    </tr>\n",
       "    <tr>\n",
       "      <th>2</th>\n",
       "      <td>0002005018</td>\n",
       "      <td>Clara Callan</td>\n",
       "      <td>Richard Bruce Wright</td>\n",
       "      <td>2001</td>\n",
       "      <td>HarperFlamingo Canada</td>\n",
       "      <td>Clara Callan</td>\n",
       "      <td>Richard Bruce Wright</td>\n",
       "      <td>Richard Bruce Wright</td>\n",
       "      <td>Richard Bruce Wright</td>\n",
       "      <td>64022406</td>\n",
       "    </tr>\n",
       "    <tr>\n",
       "      <th>...</th>\n",
       "      <td>...</td>\n",
       "      <td>...</td>\n",
       "      <td>...</td>\n",
       "      <td>...</td>\n",
       "      <td>...</td>\n",
       "      <td>...</td>\n",
       "      <td>...</td>\n",
       "      <td>...</td>\n",
       "      <td>...</td>\n",
       "      <td>...</td>\n",
       "    </tr>\n",
       "    <tr>\n",
       "      <th>269266</th>\n",
       "      <td>0316640786</td>\n",
       "      <td>Christie's Collectables: Blue and White China ...</td>\n",
       "      <td>Paul Tippett</td>\n",
       "      <td>1997</td>\n",
       "      <td>Time Warner Books UK</td>\n",
       "      <td>Blue and White China</td>\n",
       "      <td>Paul Tippett</td>\n",
       "      <td>Paul Tippett</td>\n",
       "      <td>Paul Tippett</td>\n",
       "      <td>292316281</td>\n",
       "    </tr>\n",
       "    <tr>\n",
       "      <th>269267</th>\n",
       "      <td>020130998X</td>\n",
       "      <td>The Unified Modeling Language Reference Manual...</td>\n",
       "      <td>James Rumbaugh</td>\n",
       "      <td>1998</td>\n",
       "      <td>Addison-Wesley Professional</td>\n",
       "      <td>The Unified Modeling Language Reference Manual</td>\n",
       "      <td>James Rumbaugh|A. Jacobson|Ivar Jacobson|Grady...</td>\n",
       "      <td>James Rumbaugh</td>\n",
       "      <td>James Rumbaugh</td>\n",
       "      <td>66578490</td>\n",
       "    </tr>\n",
       "    <tr>\n",
       "      <th>269270</th>\n",
       "      <td>1582380805</td>\n",
       "      <td>Tropical Rainforests: 230 Species in Full Colo...</td>\n",
       "      <td>Allen M., Ph.D. Young</td>\n",
       "      <td>2001</td>\n",
       "      <td>Golden Guides from St. Martin's Press</td>\n",
       "      <td>Tropical Rainforests</td>\n",
       "      <td>Allen M. Young</td>\n",
       "      <td>Allen M. Young</td>\n",
       "      <td>Allen M. Young</td>\n",
       "      <td>25946864</td>\n",
       "    </tr>\n",
       "    <tr>\n",
       "      <th>269271</th>\n",
       "      <td>1845170423</td>\n",
       "      <td>Cocktail Classics</td>\n",
       "      <td>David Biggs</td>\n",
       "      <td>2004</td>\n",
       "      <td>Connaught</td>\n",
       "      <td>Cocktail Classics</td>\n",
       "      <td>David Biggs</td>\n",
       "      <td>David Biggs</td>\n",
       "      <td>David Biggs</td>\n",
       "      <td>121661213</td>\n",
       "    </tr>\n",
       "    <tr>\n",
       "      <th>269272</th>\n",
       "      <td>0525447644</td>\n",
       "      <td>From One to One Hundred</td>\n",
       "      <td>Teri Sloat</td>\n",
       "      <td>1991</td>\n",
       "      <td>Dutton Books</td>\n",
       "      <td>From One to One Hundred</td>\n",
       "      <td>Teri Sloat</td>\n",
       "      <td>Teri Sloat</td>\n",
       "      <td>Teri Sloat</td>\n",
       "      <td>40945135</td>\n",
       "    </tr>\n",
       "  </tbody>\n",
       "</table>\n",
       "<p>242607 rows × 10 columns</p>\n",
       "</div>"
      ],
      "text/plain": [
       "              ISBN                                              title  \\\n",
       "index                                                                   \n",
       "0       0195153448                                Classical Mythology   \n",
       "1       0801319536                                Classical Mythology   \n",
       "200487  0582280044                                Classical mythology   \n",
       "239954  0801304652                                Classical mythology   \n",
       "2       0002005018                                       Clara Callan   \n",
       "...            ...                                                ...   \n",
       "269266  0316640786  Christie's Collectables: Blue and White China ...   \n",
       "269267  020130998X  The Unified Modeling Language Reference Manual...   \n",
       "269270  1582380805  Tropical Rainforests: 230 Species in Full Colo...   \n",
       "269271  1845170423                                  Cocktail Classics   \n",
       "269272  0525447644                            From One to One Hundred   \n",
       "\n",
       "                       author  year                              publisher  \\\n",
       "index                                                                        \n",
       "0          Mark P. O. Morford  2002                Oxford University Press   \n",
       "1          Mark P. O. Morford  1998                  John Wiley &amp; Sons   \n",
       "200487       Mark P.O Morford  1985                                Longman   \n",
       "239954      Mark P. O Morford  1991                                Longman   \n",
       "2        Richard Bruce Wright  2001                  HarperFlamingo Canada   \n",
       "...                       ...   ...                                    ...   \n",
       "269266           Paul Tippett  1997                   Time Warner Books UK   \n",
       "269267         James Rumbaugh  1998            Addison-Wesley Professional   \n",
       "269270  Allen M., Ph.D. Young  2001  Golden Guides from St. Martin's Press   \n",
       "269271            David Biggs  2004                              Connaught   \n",
       "269272             Teri Sloat  1991                           Dutton Books   \n",
       "\n",
       "                                             alt_title  \\\n",
       "index                                                    \n",
       "0                                  Classical Mythology   \n",
       "1                                  Classical Mythology   \n",
       "200487                             Classical Mythology   \n",
       "239954                             Classical Mythology   \n",
       "2                                         Clara Callan   \n",
       "...                                                ...   \n",
       "269266                            Blue and White China   \n",
       "269267  The Unified Modeling Language Reference Manual   \n",
       "269270                            Tropical Rainforests   \n",
       "269271                               Cocktail Classics   \n",
       "269272                         From One to One Hundred   \n",
       "\n",
       "                                               alt_author  \\\n",
       "index                                                       \n",
       "0                   Mark P. O. Morford|Robert J. Lenardon   \n",
       "1                   Mark P. O. Morford|Robert J. Lenardon   \n",
       "200487              Mark P. O. Morford|Robert J. Lenardon   \n",
       "239954              Mark P. O. Morford|Robert J. Lenardon   \n",
       "2                                    Richard Bruce Wright   \n",
       "...                                                   ...   \n",
       "269266                                       Paul Tippett   \n",
       "269267  James Rumbaugh|A. Jacobson|Ivar Jacobson|Grady...   \n",
       "269270                                     Allen M. Young   \n",
       "269271                                        David Biggs   \n",
       "269272                                         Teri Sloat   \n",
       "\n",
       "              correct_author      alt_first_author    viaf_id  \n",
       "index                                                          \n",
       "0         Mark P. O. Morford    Mark P. O. Morford   92220559  \n",
       "1         Mark P. O. Morford    Mark P. O. Morford   92220559  \n",
       "200487    Mark P. O. Morford    Mark P. O. Morford   92220559  \n",
       "239954    Mark P. O. Morford    Mark P. O. Morford   92220559  \n",
       "2       Richard Bruce Wright  Richard Bruce Wright   64022406  \n",
       "...                      ...                   ...        ...  \n",
       "269266          Paul Tippett          Paul Tippett  292316281  \n",
       "269267        James Rumbaugh        James Rumbaugh   66578490  \n",
       "269270        Allen M. Young        Allen M. Young   25946864  \n",
       "269271           David Biggs           David Biggs  121661213  \n",
       "269272            Teri Sloat            Teri Sloat   40945135  \n",
       "\n",
       "[242607 rows x 10 columns]"
      ]
     },
     "execution_count": 10,
     "metadata": {},
     "output_type": "execute_result"
    }
   ],
   "source": [
    "books_with_ISBN_results_and_viaf[books_with_ISBN_results_and_viaf.viaf_id!=\"\"]"
   ]
  },
  {
   "cell_type": "code",
   "execution_count": 15,
   "id": "cb66a71d",
   "metadata": {},
   "outputs": [],
   "source": [
    "books_with_ISBN_results_and_viaf.to_csv(\"data/items_books_after_viaf_and_filling.csv\")"
   ]
  }
 ],
 "metadata": {
  "kernelspec": {
   "display_name": "Python 3",
   "language": "python",
   "name": "python3"
  },
  "language_info": {
   "codemirror_mode": {
    "name": "ipython",
    "version": 3
   },
   "file_extension": ".py",
   "mimetype": "text/x-python",
   "name": "python",
   "nbconvert_exporter": "python",
   "pygments_lexer": "ipython3",
   "version": "3.6.5"
  }
 },
 "nbformat": 4,
 "nbformat_minor": 5
}
