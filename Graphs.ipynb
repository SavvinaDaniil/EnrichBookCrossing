{
 "cells": [
  {
   "cell_type": "markdown",
   "id": "8f52b9fa",
   "metadata": {},
   "source": [
    "# Import Libraries"
   ]
  },
  {
   "cell_type": "code",
   "execution_count": 22,
   "id": "972c76ba",
   "metadata": {},
   "outputs": [],
   "source": [
    "import time\n",
    "import pandas as pd\n",
    "import numpy as np\n",
    "import pickle as pkl\n",
    "from collections import Counter\n",
    "import re\n",
    "import math\n",
    "import matplotlib.pyplot as plt\n",
    "\n",
    "import warnings\n",
    "warnings.simplefilter(action='ignore', category=FutureWarning)"
   ]
  },
  {
   "cell_type": "code",
   "execution_count": 23,
   "id": "30000c60",
   "metadata": {},
   "outputs": [],
   "source": [
    "location_to_save = \"data/final_files/\"\n",
    "large_location_to_save = \"data/final_files/large_files/\""
   ]
  },
  {
   "cell_type": "markdown",
   "id": "95b5e0f9",
   "metadata": {},
   "source": [
    "# Read Files"
   ]
  },
  {
   "cell_type": "markdown",
   "id": "eeaeca23",
   "metadata": {},
   "source": [
    "Default files."
   ]
  },
  {
   "cell_type": "code",
   "execution_count": 24,
   "id": "742db212",
   "metadata": {},
   "outputs": [],
   "source": [
    "entire_books = pd.read_csv(location_to_save+\"items_books_with_readable_properties.csv\", low_memory=False, index_col=0).fillna(\"\")\n",
    "entire_ratings = pd.read_csv(large_location_to_save+\"entire_ratings_with_readable_properties.csv\", low_memory=False, index_col=0).fillna(\"\")\n",
    "fairbook_books = pd.read_csv(location_to_save+\"fairbook_books_with_readable_properties.csv\", low_memory=False, index_col=0).fillna(\"\")\n",
    "fairbook_ratings = pd.read_csv(location_to_save+\"fairbook_ratings_with_readable_properties.csv\", low_memory=False, index_col=0).fillna(\"\")"
   ]
  },
  {
   "cell_type": "markdown",
   "id": "49b72efc",
   "metadata": {},
   "source": [
    "Ratings with removed items that don't have metadata."
   ]
  },
  {
   "cell_type": "code",
   "execution_count": 25,
   "id": "2aab3710",
   "metadata": {},
   "outputs": [],
   "source": [
    "entire_ratings_filtered = pd.read_csv(large_location_to_save+\"entire_ratings_with_readable_properties_filtered_ISBNs.csv\", low_memory=False, index_col=0).fillna(\"\")\n",
    "fairbook_ratings_filtered = pd.read_csv(location_to_save+\"fairbook_ratings_with_readable_properties_filtered_ISBNs.csv\", low_memory=False, index_col=0).fillna(\"\")"
   ]
  },
  {
   "cell_type": "code",
   "execution_count": 27,
   "id": "fcd42371",
   "metadata": {},
   "outputs": [
    {
     "data": {
      "text/plain": [
       "(6733, 6733)"
      ]
     },
     "execution_count": 27,
     "metadata": {},
     "output_type": "execute_result"
    }
   ],
   "source": [
    "len(fairbook_ratings_filtered.ISBN.unique()), len(fairbook_books)"
   ]
  },
  {
   "cell_type": "markdown",
   "id": "1854aacc",
   "metadata": {},
   "source": [
    "Books dataset with correct ISBN (title-author combination)."
   ]
  },
  {
   "cell_type": "code",
   "execution_count": 8,
   "id": "1762bb62",
   "metadata": {},
   "outputs": [],
   "source": [
    "entire_books_correct_ISBN = pd.read_csv(location_to_save+\"items_books_with_readable_properties_correct_ISBN.csv\", low_memory=False, index_col=0).fillna(\"\")"
   ]
  },
  {
   "cell_type": "markdown",
   "id": "296e3899",
   "metadata": {},
   "source": [
    "ISBN dict."
   ]
  },
  {
   "cell_type": "code",
   "execution_count": 7,
   "id": "751cfbf1",
   "metadata": {},
   "outputs": [],
   "source": [
    "with open('ISBN_dict.pkl', 'rb') as handle:\n",
    "        large_ISBN_dict = pkl.load(handle)"
   ]
  },
  {
   "cell_type": "markdown",
   "id": "293afd6b",
   "metadata": {},
   "source": [
    "# Remove duplicate ISBNs."
   ]
  },
  {
   "cell_type": "markdown",
   "id": "5254cd35",
   "metadata": {},
   "source": [
    "Fairbook ratings."
   ]
  },
  {
   "cell_type": "code",
   "execution_count": 12,
   "id": "0dcb06f3",
   "metadata": {},
   "outputs": [],
   "source": [
    "for index, row in fairbook_ratings_filtered.iterrows():\n",
    "    if row.alt_title!=\"\":\n",
    "        ISBN = row.ISBN\n",
    "        ISBN_alt = large_ISBN_dict[ISBN]\n",
    "        fairbook_ratings_filtered.at[index, \"ISBN\"] = ISBN_alt"
   ]
  },
  {
   "cell_type": "code",
   "execution_count": 13,
   "id": "b1f79bc4",
   "metadata": {},
   "outputs": [
    {
     "data": {
      "text/plain": [
       "(86782, 86356)"
      ]
     },
     "execution_count": 13,
     "metadata": {},
     "output_type": "execute_result"
    }
   ],
   "source": [
    "len(fairbook_ratings_filtered), len(fairbook_ratings_filtered.drop_duplicates([\"ISBN\", \"User-ID\"]))"
   ]
  },
  {
   "cell_type": "code",
   "execution_count": 14,
   "id": "25ee5096",
   "metadata": {},
   "outputs": [],
   "source": [
    "fairbook_ratings_filtered_correct = fairbook_ratings_filtered.drop_duplicates([\"ISBN\", \"User-ID\"])"
   ]
  },
  {
   "cell_type": "markdown",
   "id": "128d099d",
   "metadata": {},
   "source": [
    "Entire ratings."
   ]
  },
  {
   "cell_type": "code",
   "execution_count": 15,
   "id": "fef00c1d",
   "metadata": {},
   "outputs": [],
   "source": [
    "for index, row in entire_ratings_filtered.iterrows():\n",
    "    if row.alt_title!=\"\":\n",
    "        ISBN = row.ISBN\n",
    "        ISBN_alt = large_ISBN_dict[ISBN]\n",
    "        entire_ratings_filtered.at[index, \"ISBN\"] = ISBN_alt"
   ]
  },
  {
   "cell_type": "code",
   "execution_count": 16,
   "id": "85c57e4d",
   "metadata": {},
   "outputs": [
    {
     "data": {
      "text/plain": [
       "(1031136, 1021847)"
      ]
     },
     "execution_count": 16,
     "metadata": {},
     "output_type": "execute_result"
    }
   ],
   "source": [
    "len(entire_ratings_filtered), len(entire_ratings_filtered.drop_duplicates([\"ISBN\", \"User-ID\"]))"
   ]
  },
  {
   "cell_type": "code",
   "execution_count": 17,
   "id": "b8657052",
   "metadata": {},
   "outputs": [],
   "source": [
    "entire_ratings_filtered_correct = entire_ratings_filtered.drop_duplicates([\"ISBN\", \"User-ID\"])"
   ]
  },
  {
   "cell_type": "markdown",
   "id": "5aa187a7",
   "metadata": {},
   "source": [
    "### Save!!!"
   ]
  },
  {
   "cell_type": "code",
   "execution_count": 18,
   "id": "f5cd3490",
   "metadata": {},
   "outputs": [],
   "source": [
    "fairbook_ratings_filtered_correct.to_csv(location_to_save + 'fairbook_ratings_with_readable_properties_filtered_correct_ISBNs.csv')\n",
    "entire_ratings_filtered_correct.to_csv(large_location_to_save + 'entire_ratings_with_readable_properties_filtered_correct_ISBNs.csv')"
   ]
  },
  {
   "cell_type": "code",
   "execution_count": 21,
   "id": "4bc23087",
   "metadata": {},
   "outputs": [
    {
     "data": {
      "text/plain": [
       "5504"
      ]
     },
     "execution_count": 21,
     "metadata": {},
     "output_type": "execute_result"
    }
   ],
   "source": [
    "len(fairbook_ratings_filtered_correct.ISBN.unique())"
   ]
  },
  {
   "cell_type": "code",
   "execution_count": 33,
   "id": "93423a3c",
   "metadata": {},
   "outputs": [
    {
     "data": {
      "text/plain": [
       "216657"
      ]
     },
     "execution_count": 33,
     "metadata": {},
     "output_type": "execute_result"
    }
   ],
   "source": [
    "len(entire_books_correct_ISBN.ISBN_alt.unique())"
   ]
  },
  {
   "cell_type": "code",
   "execution_count": 32,
   "id": "985f9757",
   "metadata": {},
   "outputs": [
    {
     "data": {
      "text/plain": [
       "222496"
      ]
     },
     "execution_count": 32,
     "metadata": {},
     "output_type": "execute_result"
    }
   ],
   "source": [
    "len(entire_ratings_filtered_correct.ISBN.unique())"
   ]
  },
  {
   "cell_type": "code",
   "execution_count": 30,
   "id": "48ecfd68",
   "metadata": {},
   "outputs": [
    {
     "data": {
      "text/plain": [
       "271360"
      ]
     },
     "execution_count": 30,
     "metadata": {},
     "output_type": "execute_result"
    }
   ],
   "source": [
    "len(entire_books)"
   ]
  },
  {
   "cell_type": "code",
   "execution_count": null,
   "id": "9051d462",
   "metadata": {},
   "outputs": [],
   "source": []
  }
 ],
 "metadata": {
  "kernelspec": {
   "display_name": "Python 3",
   "language": "python",
   "name": "python3"
  },
  "language_info": {
   "codemirror_mode": {
    "name": "ipython",
    "version": 3
   },
   "file_extension": ".py",
   "mimetype": "text/x-python",
   "name": "python",
   "nbconvert_exporter": "python",
   "pygments_lexer": "ipython3",
   "version": "3.6.5"
  }
 },
 "nbformat": 4,
 "nbformat_minor": 5
}
