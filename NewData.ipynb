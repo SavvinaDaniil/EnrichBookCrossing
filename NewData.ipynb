{
 "cells": [
  {
   "cell_type": "code",
   "execution_count": 19,
   "id": "e392c1d2-f07d-4abe-9a87-906b351f2219",
   "metadata": {},
   "outputs": [],
   "source": [
    "import pandas as pd"
   ]
  },
  {
   "cell_type": "markdown",
   "id": "38913cf1-4650-4da1-a928-b00f83855b98",
   "metadata": {},
   "source": [
    "## Goodreads10k"
   ]
  },
  {
   "cell_type": "code",
   "execution_count": 3,
   "id": "b550d06e-e59e-4bea-95f4-2b1489641959",
   "metadata": {},
   "outputs": [],
   "source": [
    "location = 'data/goodbooks-10k/'"
   ]
  },
  {
   "cell_type": "code",
   "execution_count": 6,
   "id": "a343290d-713f-473b-a454-c23bdcb261f2",
   "metadata": {},
   "outputs": [],
   "source": [
    "g10k_ratings = pd.read_csv(location+'ratings.csv')"
   ]
  },
  {
   "cell_type": "code",
   "execution_count": 7,
   "id": "d1d57bb4-2695-47dd-b11c-371d2f25dc12",
   "metadata": {},
   "outputs": [
    {
     "data": {
      "text/plain": [
       "array([5, 4, 3, 2, 1])"
      ]
     },
     "execution_count": 7,
     "metadata": {},
     "output_type": "execute_result"
    }
   ],
   "source": [
    "g10k_ratings.rating.unique()"
   ]
  },
  {
   "cell_type": "code",
   "execution_count": 10,
   "id": "f77a8196-a329-4d64-9948-5c62c904f646",
   "metadata": {},
   "outputs": [
    {
     "data": {
      "text/html": [
       "<div>\n",
       "<style scoped>\n",
       "    .dataframe tbody tr th:only-of-type {\n",
       "        vertical-align: middle;\n",
       "    }\n",
       "\n",
       "    .dataframe tbody tr th {\n",
       "        vertical-align: top;\n",
       "    }\n",
       "\n",
       "    .dataframe thead th {\n",
       "        text-align: right;\n",
       "    }\n",
       "</style>\n",
       "<table border=\"1\" class=\"dataframe\">\n",
       "  <thead>\n",
       "    <tr style=\"text-align: right;\">\n",
       "      <th></th>\n",
       "      <th>user_id</th>\n",
       "      <th>book_id</th>\n",
       "      <th>rating</th>\n",
       "    </tr>\n",
       "  </thead>\n",
       "  <tbody>\n",
       "    <tr>\n",
       "      <th>0</th>\n",
       "      <td>1</td>\n",
       "      <td>258</td>\n",
       "      <td>5</td>\n",
       "    </tr>\n",
       "    <tr>\n",
       "      <th>1</th>\n",
       "      <td>2</td>\n",
       "      <td>4081</td>\n",
       "      <td>4</td>\n",
       "    </tr>\n",
       "    <tr>\n",
       "      <th>2</th>\n",
       "      <td>2</td>\n",
       "      <td>260</td>\n",
       "      <td>5</td>\n",
       "    </tr>\n",
       "    <tr>\n",
       "      <th>3</th>\n",
       "      <td>2</td>\n",
       "      <td>9296</td>\n",
       "      <td>5</td>\n",
       "    </tr>\n",
       "    <tr>\n",
       "      <th>4</th>\n",
       "      <td>2</td>\n",
       "      <td>2318</td>\n",
       "      <td>3</td>\n",
       "    </tr>\n",
       "  </tbody>\n",
       "</table>\n",
       "</div>"
      ],
      "text/plain": [
       "   user_id  book_id  rating\n",
       "0        1      258       5\n",
       "1        2     4081       4\n",
       "2        2      260       5\n",
       "3        2     9296       5\n",
       "4        2     2318       3"
      ]
     },
     "execution_count": 10,
     "metadata": {},
     "output_type": "execute_result"
    }
   ],
   "source": [
    "g10k_ratings.head()"
   ]
  },
  {
   "cell_type": "code",
   "execution_count": 8,
   "id": "6f19d6b9-688d-4ef9-94cc-85c511ffc6eb",
   "metadata": {},
   "outputs": [],
   "source": [
    "g10k_books = pd.read_csv(location+'books.csv')"
   ]
  },
  {
   "cell_type": "code",
   "execution_count": 11,
   "id": "fb1d1eda-80b5-4a1c-bff8-2faaf91dbb0e",
   "metadata": {},
   "outputs": [
    {
     "data": {
      "text/html": [
       "<div>\n",
       "<style scoped>\n",
       "    .dataframe tbody tr th:only-of-type {\n",
       "        vertical-align: middle;\n",
       "    }\n",
       "\n",
       "    .dataframe tbody tr th {\n",
       "        vertical-align: top;\n",
       "    }\n",
       "\n",
       "    .dataframe thead th {\n",
       "        text-align: right;\n",
       "    }\n",
       "</style>\n",
       "<table border=\"1\" class=\"dataframe\">\n",
       "  <thead>\n",
       "    <tr style=\"text-align: right;\">\n",
       "      <th></th>\n",
       "      <th>book_id</th>\n",
       "      <th>goodreads_book_id</th>\n",
       "      <th>best_book_id</th>\n",
       "      <th>work_id</th>\n",
       "      <th>books_count</th>\n",
       "      <th>isbn</th>\n",
       "      <th>isbn13</th>\n",
       "      <th>authors</th>\n",
       "      <th>original_publication_year</th>\n",
       "      <th>original_title</th>\n",
       "      <th>...</th>\n",
       "      <th>ratings_count</th>\n",
       "      <th>work_ratings_count</th>\n",
       "      <th>work_text_reviews_count</th>\n",
       "      <th>ratings_1</th>\n",
       "      <th>ratings_2</th>\n",
       "      <th>ratings_3</th>\n",
       "      <th>ratings_4</th>\n",
       "      <th>ratings_5</th>\n",
       "      <th>image_url</th>\n",
       "      <th>small_image_url</th>\n",
       "    </tr>\n",
       "  </thead>\n",
       "  <tbody>\n",
       "    <tr>\n",
       "      <th>0</th>\n",
       "      <td>1</td>\n",
       "      <td>2767052</td>\n",
       "      <td>2767052</td>\n",
       "      <td>2792775</td>\n",
       "      <td>272</td>\n",
       "      <td>439023483</td>\n",
       "      <td>9.780439e+12</td>\n",
       "      <td>Suzanne Collins</td>\n",
       "      <td>2008.0</td>\n",
       "      <td>The Hunger Games</td>\n",
       "      <td>...</td>\n",
       "      <td>4780653</td>\n",
       "      <td>4942365</td>\n",
       "      <td>155254</td>\n",
       "      <td>66715</td>\n",
       "      <td>127936</td>\n",
       "      <td>560092</td>\n",
       "      <td>1481305</td>\n",
       "      <td>2706317</td>\n",
       "      <td>https://images.gr-assets.com/books/1447303603m...</td>\n",
       "      <td>https://images.gr-assets.com/books/1447303603s...</td>\n",
       "    </tr>\n",
       "    <tr>\n",
       "      <th>1</th>\n",
       "      <td>2</td>\n",
       "      <td>3</td>\n",
       "      <td>3</td>\n",
       "      <td>4640799</td>\n",
       "      <td>491</td>\n",
       "      <td>439554934</td>\n",
       "      <td>9.780440e+12</td>\n",
       "      <td>J.K. Rowling, Mary GrandPré</td>\n",
       "      <td>1997.0</td>\n",
       "      <td>Harry Potter and the Philosopher's Stone</td>\n",
       "      <td>...</td>\n",
       "      <td>4602479</td>\n",
       "      <td>4800065</td>\n",
       "      <td>75867</td>\n",
       "      <td>75504</td>\n",
       "      <td>101676</td>\n",
       "      <td>455024</td>\n",
       "      <td>1156318</td>\n",
       "      <td>3011543</td>\n",
       "      <td>https://images.gr-assets.com/books/1474154022m...</td>\n",
       "      <td>https://images.gr-assets.com/books/1474154022s...</td>\n",
       "    </tr>\n",
       "    <tr>\n",
       "      <th>2</th>\n",
       "      <td>3</td>\n",
       "      <td>41865</td>\n",
       "      <td>41865</td>\n",
       "      <td>3212258</td>\n",
       "      <td>226</td>\n",
       "      <td>316015849</td>\n",
       "      <td>9.780316e+12</td>\n",
       "      <td>Stephenie Meyer</td>\n",
       "      <td>2005.0</td>\n",
       "      <td>Twilight</td>\n",
       "      <td>...</td>\n",
       "      <td>3866839</td>\n",
       "      <td>3916824</td>\n",
       "      <td>95009</td>\n",
       "      <td>456191</td>\n",
       "      <td>436802</td>\n",
       "      <td>793319</td>\n",
       "      <td>875073</td>\n",
       "      <td>1355439</td>\n",
       "      <td>https://images.gr-assets.com/books/1361039443m...</td>\n",
       "      <td>https://images.gr-assets.com/books/1361039443s...</td>\n",
       "    </tr>\n",
       "    <tr>\n",
       "      <th>3</th>\n",
       "      <td>4</td>\n",
       "      <td>2657</td>\n",
       "      <td>2657</td>\n",
       "      <td>3275794</td>\n",
       "      <td>487</td>\n",
       "      <td>61120081</td>\n",
       "      <td>9.780061e+12</td>\n",
       "      <td>Harper Lee</td>\n",
       "      <td>1960.0</td>\n",
       "      <td>To Kill a Mockingbird</td>\n",
       "      <td>...</td>\n",
       "      <td>3198671</td>\n",
       "      <td>3340896</td>\n",
       "      <td>72586</td>\n",
       "      <td>60427</td>\n",
       "      <td>117415</td>\n",
       "      <td>446835</td>\n",
       "      <td>1001952</td>\n",
       "      <td>1714267</td>\n",
       "      <td>https://images.gr-assets.com/books/1361975680m...</td>\n",
       "      <td>https://images.gr-assets.com/books/1361975680s...</td>\n",
       "    </tr>\n",
       "    <tr>\n",
       "      <th>4</th>\n",
       "      <td>5</td>\n",
       "      <td>4671</td>\n",
       "      <td>4671</td>\n",
       "      <td>245494</td>\n",
       "      <td>1356</td>\n",
       "      <td>743273567</td>\n",
       "      <td>9.780743e+12</td>\n",
       "      <td>F. Scott Fitzgerald</td>\n",
       "      <td>1925.0</td>\n",
       "      <td>The Great Gatsby</td>\n",
       "      <td>...</td>\n",
       "      <td>2683664</td>\n",
       "      <td>2773745</td>\n",
       "      <td>51992</td>\n",
       "      <td>86236</td>\n",
       "      <td>197621</td>\n",
       "      <td>606158</td>\n",
       "      <td>936012</td>\n",
       "      <td>947718</td>\n",
       "      <td>https://images.gr-assets.com/books/1490528560m...</td>\n",
       "      <td>https://images.gr-assets.com/books/1490528560s...</td>\n",
       "    </tr>\n",
       "  </tbody>\n",
       "</table>\n",
       "<p>5 rows × 23 columns</p>\n",
       "</div>"
      ],
      "text/plain": [
       "   book_id  goodreads_book_id  best_book_id  work_id  books_count       isbn  \\\n",
       "0        1            2767052       2767052  2792775          272  439023483   \n",
       "1        2                  3             3  4640799          491  439554934   \n",
       "2        3              41865         41865  3212258          226  316015849   \n",
       "3        4               2657          2657  3275794          487   61120081   \n",
       "4        5               4671          4671   245494         1356  743273567   \n",
       "\n",
       "         isbn13                      authors  original_publication_year  \\\n",
       "0  9.780439e+12              Suzanne Collins                     2008.0   \n",
       "1  9.780440e+12  J.K. Rowling, Mary GrandPré                     1997.0   \n",
       "2  9.780316e+12              Stephenie Meyer                     2005.0   \n",
       "3  9.780061e+12                   Harper Lee                     1960.0   \n",
       "4  9.780743e+12          F. Scott Fitzgerald                     1925.0   \n",
       "\n",
       "                             original_title  ... ratings_count  \\\n",
       "0                          The Hunger Games  ...       4780653   \n",
       "1  Harry Potter and the Philosopher's Stone  ...       4602479   \n",
       "2                                  Twilight  ...       3866839   \n",
       "3                     To Kill a Mockingbird  ...       3198671   \n",
       "4                          The Great Gatsby  ...       2683664   \n",
       "\n",
       "  work_ratings_count  work_text_reviews_count  ratings_1  ratings_2  \\\n",
       "0            4942365                   155254      66715     127936   \n",
       "1            4800065                    75867      75504     101676   \n",
       "2            3916824                    95009     456191     436802   \n",
       "3            3340896                    72586      60427     117415   \n",
       "4            2773745                    51992      86236     197621   \n",
       "\n",
       "   ratings_3  ratings_4  ratings_5  \\\n",
       "0     560092    1481305    2706317   \n",
       "1     455024    1156318    3011543   \n",
       "2     793319     875073    1355439   \n",
       "3     446835    1001952    1714267   \n",
       "4     606158     936012     947718   \n",
       "\n",
       "                                           image_url  \\\n",
       "0  https://images.gr-assets.com/books/1447303603m...   \n",
       "1  https://images.gr-assets.com/books/1474154022m...   \n",
       "2  https://images.gr-assets.com/books/1361039443m...   \n",
       "3  https://images.gr-assets.com/books/1361975680m...   \n",
       "4  https://images.gr-assets.com/books/1490528560m...   \n",
       "\n",
       "                                     small_image_url  \n",
       "0  https://images.gr-assets.com/books/1447303603s...  \n",
       "1  https://images.gr-assets.com/books/1474154022s...  \n",
       "2  https://images.gr-assets.com/books/1361039443s...  \n",
       "3  https://images.gr-assets.com/books/1361975680s...  \n",
       "4  https://images.gr-assets.com/books/1490528560s...  \n",
       "\n",
       "[5 rows x 23 columns]"
      ]
     },
     "execution_count": 11,
     "metadata": {},
     "output_type": "execute_result"
    }
   ],
   "source": [
    "g10k_books.head()"
   ]
  },
  {
   "cell_type": "code",
   "execution_count": 16,
   "id": "6f4a3ca0-40c8-487d-8631-9ffd8feb4eff",
   "metadata": {},
   "outputs": [
    {
     "data": {
      "text/plain": [
       "10000"
      ]
     },
     "execution_count": 16,
     "metadata": {},
     "output_type": "execute_result"
    }
   ],
   "source": [
    "len(g10k_ratings.book_id.unique())"
   ]
  },
  {
   "cell_type": "code",
   "execution_count": 17,
   "id": "943d5b53-1a85-4e73-8ca7-fd741a5d9f25",
   "metadata": {},
   "outputs": [
    {
     "data": {
      "text/plain": [
       "53424"
      ]
     },
     "execution_count": 17,
     "metadata": {},
     "output_type": "execute_result"
    }
   ],
   "source": [
    "len(g10k_ratings.user_id.unique())"
   ]
  },
  {
   "cell_type": "code",
   "execution_count": 18,
   "id": "966b62fa-efb6-41d4-ac16-a2ac850b4286",
   "metadata": {},
   "outputs": [
    {
     "data": {
      "text/plain": [
       "5976479"
      ]
     },
     "execution_count": 18,
     "metadata": {},
     "output_type": "execute_result"
    }
   ],
   "source": [
    "len(g10k_ratings)"
   ]
  },
  {
   "cell_type": "markdown",
   "id": "d2b0f66b-15fe-41df-aa9a-595e25273682",
   "metadata": {},
   "source": [
    "## DBC"
   ]
  },
  {
   "cell_type": "code",
   "execution_count": 22,
   "id": "85a696a7-a586-4f33-8c17-7e6d70ced7ff",
   "metadata": {},
   "outputs": [],
   "source": [
    "location = 'data/hack4dk2017/'"
   ]
  },
  {
   "cell_type": "code",
   "execution_count": 28,
   "id": "6ec86b36-713e-49f4-8d03-4b424780ed46",
   "metadata": {},
   "outputs": [],
   "source": [
    "loans = pd.read_csv(location+'udlaan.csv.gz', compression='gzip')"
   ]
  },
  {
   "cell_type": "code",
   "execution_count": 31,
   "id": "ebc455f0-f2c8-4205-b873-0edfdf00ecb1",
   "metadata": {},
   "outputs": [
    {
     "data": {
      "text/plain": [
       "238609626"
      ]
     },
     "execution_count": 31,
     "metadata": {},
     "output_type": "execute_result"
    }
   ],
   "source": [
    "len(loans)"
   ]
  },
  {
   "cell_type": "code",
   "execution_count": 34,
   "id": "aa5b306a-2932-4373-adad-16aaecd25f5b",
   "metadata": {},
   "outputs": [
    {
     "data": {
      "text/html": [
       "<div>\n",
       "<style scoped>\n",
       "    .dataframe tbody tr th:only-of-type {\n",
       "        vertical-align: middle;\n",
       "    }\n",
       "\n",
       "    .dataframe tbody tr th {\n",
       "        vertical-align: top;\n",
       "    }\n",
       "\n",
       "    .dataframe thead th {\n",
       "        text-align: right;\n",
       "    }\n",
       "</style>\n",
       "<table border=\"1\" class=\"dataframe\">\n",
       "  <thead>\n",
       "    <tr style=\"text-align: right;\">\n",
       "      <th></th>\n",
       "      <th>laaner_id</th>\n",
       "      <th>biblioteks_id</th>\n",
       "      <th>materiale_id</th>\n",
       "      <th>koen</th>\n",
       "      <th>foedselsaar</th>\n",
       "      <th>dato</th>\n",
       "    </tr>\n",
       "  </thead>\n",
       "  <tbody>\n",
       "    <tr>\n",
       "      <th>0</th>\n",
       "      <td>0</td>\n",
       "      <td>782000</td>\n",
       "      <td>870970-basis:27889107</td>\n",
       "      <td>k</td>\n",
       "      <td>1973-01-01</td>\n",
       "      <td>2015-03-04</td>\n",
       "    </tr>\n",
       "    <tr>\n",
       "      <th>1</th>\n",
       "      <td>0</td>\n",
       "      <td>782000</td>\n",
       "      <td>870970-basis:27873251</td>\n",
       "      <td>k</td>\n",
       "      <td>1973-01-01</td>\n",
       "      <td>2015-03-04</td>\n",
       "    </tr>\n",
       "    <tr>\n",
       "      <th>2</th>\n",
       "      <td>0</td>\n",
       "      <td>782000</td>\n",
       "      <td>870970-basis:28489595</td>\n",
       "      <td>k</td>\n",
       "      <td>1973-01-01</td>\n",
       "      <td>2015-03-04</td>\n",
       "    </tr>\n",
       "    <tr>\n",
       "      <th>3</th>\n",
       "      <td>0</td>\n",
       "      <td>782000</td>\n",
       "      <td>870970-basis:51267699</td>\n",
       "      <td>k</td>\n",
       "      <td>1973-01-01</td>\n",
       "      <td>2015-03-04</td>\n",
       "    </tr>\n",
       "    <tr>\n",
       "      <th>4</th>\n",
       "      <td>0</td>\n",
       "      <td>782000</td>\n",
       "      <td>870970-basis:51267699</td>\n",
       "      <td>k</td>\n",
       "      <td>1973-01-01</td>\n",
       "      <td>2015-03-04</td>\n",
       "    </tr>\n",
       "  </tbody>\n",
       "</table>\n",
       "</div>"
      ],
      "text/plain": [
       "   laaner_id  biblioteks_id           materiale_id koen foedselsaar  \\\n",
       "0          0         782000  870970-basis:27889107    k  1973-01-01   \n",
       "1          0         782000  870970-basis:27873251    k  1973-01-01   \n",
       "2          0         782000  870970-basis:28489595    k  1973-01-01   \n",
       "3          0         782000  870970-basis:51267699    k  1973-01-01   \n",
       "4          0         782000  870970-basis:51267699    k  1973-01-01   \n",
       "\n",
       "         dato  \n",
       "0  2015-03-04  \n",
       "1  2015-03-04  \n",
       "2  2015-03-04  \n",
       "3  2015-03-04  \n",
       "4  2015-03-04  "
      ]
     },
     "execution_count": 34,
     "metadata": {},
     "output_type": "execute_result"
    }
   ],
   "source": [
    "loans.head()"
   ]
  },
  {
   "cell_type": "code",
   "execution_count": 75,
   "id": "81b92078-66e3-4e07-a8ac-0aa632022dd9",
   "metadata": {},
   "outputs": [],
   "source": [
    "unique_users = loans.user.unique()\n",
    "unique_items = loans.item_processed.unique()\n",
    "num_users = len(unique_users)\n",
    "num_items = len(unique_items)"
   ]
  },
  {
   "cell_type": "code",
   "execution_count": 60,
   "id": "b2351ea5-5108-46a2-82cf-0274f8d65d5a",
   "metadata": {},
   "outputs": [
    {
     "data": {
      "text/plain": [
       "(1650073, 607885)"
      ]
     },
     "execution_count": 60,
     "metadata": {},
     "output_type": "execute_result"
    }
   ],
   "source": [
    "num_users, num_items"
   ]
  },
  {
   "cell_type": "code",
   "execution_count": 36,
   "id": "99a0dce2-96cb-49e5-bbb4-0c4f9a3b2085",
   "metadata": {},
   "outputs": [],
   "source": [
    "loans.columns = ['user','library','item', 'gender', 'birthyear', 'date']"
   ]
  },
  {
   "cell_type": "code",
   "execution_count": 72,
   "id": "ef1993e4-4c43-4921-af24-63335f706bb4",
   "metadata": {},
   "outputs": [],
   "source": [
    "loans['item_processed'] = loans['item'].str.split(':').str[-1]"
   ]
  },
  {
   "cell_type": "code",
   "execution_count": 73,
   "id": "3fd76a8a-a56f-44ab-af6f-4e7b75c30a96",
   "metadata": {},
   "outputs": [
    {
     "data": {
      "text/html": [
       "<div>\n",
       "<style scoped>\n",
       "    .dataframe tbody tr th:only-of-type {\n",
       "        vertical-align: middle;\n",
       "    }\n",
       "\n",
       "    .dataframe tbody tr th {\n",
       "        vertical-align: top;\n",
       "    }\n",
       "\n",
       "    .dataframe thead th {\n",
       "        text-align: right;\n",
       "    }\n",
       "</style>\n",
       "<table border=\"1\" class=\"dataframe\">\n",
       "  <thead>\n",
       "    <tr style=\"text-align: right;\">\n",
       "      <th></th>\n",
       "      <th>user</th>\n",
       "      <th>library</th>\n",
       "      <th>item</th>\n",
       "      <th>gender</th>\n",
       "      <th>birthyear</th>\n",
       "      <th>date</th>\n",
       "      <th>item_processed</th>\n",
       "    </tr>\n",
       "  </thead>\n",
       "  <tbody>\n",
       "    <tr>\n",
       "      <th>0</th>\n",
       "      <td>0</td>\n",
       "      <td>782000</td>\n",
       "      <td>870970-basis:27889107</td>\n",
       "      <td>k</td>\n",
       "      <td>1973-01-01</td>\n",
       "      <td>2015-03-04</td>\n",
       "      <td>27889107</td>\n",
       "    </tr>\n",
       "    <tr>\n",
       "      <th>1</th>\n",
       "      <td>0</td>\n",
       "      <td>782000</td>\n",
       "      <td>870970-basis:27873251</td>\n",
       "      <td>k</td>\n",
       "      <td>1973-01-01</td>\n",
       "      <td>2015-03-04</td>\n",
       "      <td>27873251</td>\n",
       "    </tr>\n",
       "    <tr>\n",
       "      <th>2</th>\n",
       "      <td>0</td>\n",
       "      <td>782000</td>\n",
       "      <td>870970-basis:28489595</td>\n",
       "      <td>k</td>\n",
       "      <td>1973-01-01</td>\n",
       "      <td>2015-03-04</td>\n",
       "      <td>28489595</td>\n",
       "    </tr>\n",
       "    <tr>\n",
       "      <th>3</th>\n",
       "      <td>0</td>\n",
       "      <td>782000</td>\n",
       "      <td>870970-basis:51267699</td>\n",
       "      <td>k</td>\n",
       "      <td>1973-01-01</td>\n",
       "      <td>2015-03-04</td>\n",
       "      <td>51267699</td>\n",
       "    </tr>\n",
       "    <tr>\n",
       "      <th>4</th>\n",
       "      <td>0</td>\n",
       "      <td>782000</td>\n",
       "      <td>870970-basis:51267699</td>\n",
       "      <td>k</td>\n",
       "      <td>1973-01-01</td>\n",
       "      <td>2015-03-04</td>\n",
       "      <td>51267699</td>\n",
       "    </tr>\n",
       "  </tbody>\n",
       "</table>\n",
       "</div>"
      ],
      "text/plain": [
       "   user  library                   item gender   birthyear        date  \\\n",
       "0     0   782000  870970-basis:27889107      k  1973-01-01  2015-03-04   \n",
       "1     0   782000  870970-basis:27873251      k  1973-01-01  2015-03-04   \n",
       "2     0   782000  870970-basis:28489595      k  1973-01-01  2015-03-04   \n",
       "3     0   782000  870970-basis:51267699      k  1973-01-01  2015-03-04   \n",
       "4     0   782000  870970-basis:51267699      k  1973-01-01  2015-03-04   \n",
       "\n",
       "  item_processed  \n",
       "0       27889107  \n",
       "1       27873251  \n",
       "2       28489595  \n",
       "3       51267699  \n",
       "4       51267699  "
      ]
     },
     "execution_count": 73,
     "metadata": {},
     "output_type": "execute_result"
    }
   ],
   "source": [
    "loans.head()"
   ]
  },
  {
   "cell_type": "code",
   "execution_count": 41,
   "id": "995098f0-56f7-4039-b58c-03a5420d6c5e",
   "metadata": {},
   "outputs": [],
   "source": [
    "books = pd.read_csv(location+'materialer.csv.gz', compression='gzip', low_memory=False)"
   ]
  },
  {
   "cell_type": "code",
   "execution_count": 42,
   "id": "46e80d0f-be60-4044-be6e-407dd20eabcd",
   "metadata": {},
   "outputs": [
    {
     "data": {
      "text/plain": [
       "9182830"
      ]
     },
     "execution_count": 42,
     "metadata": {},
     "output_type": "execute_result"
    }
   ],
   "source": [
    "len(books)"
   ]
  },
  {
   "cell_type": "code",
   "execution_count": 66,
   "id": "4492b16a-e24c-4bb9-8d55-2de429577405",
   "metadata": {},
   "outputs": [
    {
     "data": {
      "text/html": [
       "<div>\n",
       "<style scoped>\n",
       "    .dataframe tbody tr th:only-of-type {\n",
       "        vertical-align: middle;\n",
       "    }\n",
       "\n",
       "    .dataframe tbody tr th {\n",
       "        vertical-align: top;\n",
       "    }\n",
       "\n",
       "    .dataframe thead th {\n",
       "        text-align: right;\n",
       "    }\n",
       "</style>\n",
       "<table border=\"1\" class=\"dataframe\">\n",
       "  <thead>\n",
       "    <tr style=\"text-align: right;\">\n",
       "      <th></th>\n",
       "      <th>item</th>\n",
       "      <th>language</th>\n",
       "      <th>creatir</th>\n",
       "      <th>subject</th>\n",
       "      <th>title</th>\n",
       "      <th>type</th>\n",
       "    </tr>\n",
       "  </thead>\n",
       "  <tbody>\n",
       "    <tr>\n",
       "      <th>0</th>\n",
       "      <td>125030-katalog:000000001</td>\n",
       "      <td>NaN</td>\n",
       "      <td>Fredensborg Big Band</td>\n",
       "      <td>NaN</td>\n",
       "      <td>Koncert i Copenhagen Jazz House den 1.4.1995. ...</td>\n",
       "      <td>music</td>\n",
       "    </tr>\n",
       "    <tr>\n",
       "      <th>1</th>\n",
       "      <td>125030-katalog:000000002</td>\n",
       "      <td>NaN</td>\n",
       "      <td>Klüvers Big Band</td>\n",
       "      <td>NaN</td>\n",
       "      <td>Koncert i Copenhagen Jazz House den 27.1.1995....</td>\n",
       "      <td>music</td>\n",
       "    </tr>\n",
       "    <tr>\n",
       "      <th>2</th>\n",
       "      <td>125030-katalog:000000003</td>\n",
       "      <td>NaN</td>\n",
       "      <td>Frederik Lundin</td>\n",
       "      <td>NaN</td>\n",
       "      <td>Koncert i Copenhagen Jazz House den 26.1.1995</td>\n",
       "      <td>music</td>\n",
       "    </tr>\n",
       "    <tr>\n",
       "      <th>3</th>\n",
       "      <td>125030-katalog:000000004</td>\n",
       "      <td>NaN</td>\n",
       "      <td>Horace Parlan</td>\n",
       "      <td>NaN</td>\n",
       "      <td>Koncert i Copenhagen Jazz House den 29.4.1995</td>\n",
       "      <td>music</td>\n",
       "    </tr>\n",
       "    <tr>\n",
       "      <th>4</th>\n",
       "      <td>125030-katalog:000000005</td>\n",
       "      <td>NaN</td>\n",
       "      <td>Thomas Metcalf</td>\n",
       "      <td>NaN</td>\n",
       "      <td>Koncert i Copenhagen Jazz House den 16.3.1995 ...</td>\n",
       "      <td>music</td>\n",
       "    </tr>\n",
       "  </tbody>\n",
       "</table>\n",
       "</div>"
      ],
      "text/plain": [
       "                       item language               creatir subject  \\\n",
       "0  125030-katalog:000000001      NaN  Fredensborg Big Band     NaN   \n",
       "1  125030-katalog:000000002      NaN      Klüvers Big Band     NaN   \n",
       "2  125030-katalog:000000003      NaN       Frederik Lundin     NaN   \n",
       "3  125030-katalog:000000004      NaN         Horace Parlan     NaN   \n",
       "4  125030-katalog:000000005      NaN        Thomas Metcalf     NaN   \n",
       "\n",
       "                                               title   type  \n",
       "0  Koncert i Copenhagen Jazz House den 1.4.1995. ...  music  \n",
       "1  Koncert i Copenhagen Jazz House den 27.1.1995....  music  \n",
       "2      Koncert i Copenhagen Jazz House den 26.1.1995  music  \n",
       "3      Koncert i Copenhagen Jazz House den 29.4.1995  music  \n",
       "4  Koncert i Copenhagen Jazz House den 16.3.1995 ...  music  "
      ]
     },
     "execution_count": 66,
     "metadata": {},
     "output_type": "execute_result"
    }
   ],
   "source": [
    "books.head()"
   ]
  },
  {
   "cell_type": "code",
   "execution_count": 45,
   "id": "a07cc29f-1445-4f0f-be36-856ad5933152",
   "metadata": {},
   "outputs": [],
   "source": [
    "books.columns = ['item','language','creatir', 'subject', 'title', 'type']"
   ]
  },
  {
   "cell_type": "code",
   "execution_count": 70,
   "id": "77dc705b-89cc-43fa-ad2b-9c50ad42577b",
   "metadata": {},
   "outputs": [],
   "source": [
    "books['item_processed'] = books['item'].str.split(':').str[-1]"
   ]
  },
  {
   "cell_type": "code",
   "execution_count": 71,
   "id": "915e1123-c762-421e-92bf-10249c8ba89e",
   "metadata": {},
   "outputs": [
    {
     "data": {
      "text/html": [
       "<div>\n",
       "<style scoped>\n",
       "    .dataframe tbody tr th:only-of-type {\n",
       "        vertical-align: middle;\n",
       "    }\n",
       "\n",
       "    .dataframe tbody tr th {\n",
       "        vertical-align: top;\n",
       "    }\n",
       "\n",
       "    .dataframe thead th {\n",
       "        text-align: right;\n",
       "    }\n",
       "</style>\n",
       "<table border=\"1\" class=\"dataframe\">\n",
       "  <thead>\n",
       "    <tr style=\"text-align: right;\">\n",
       "      <th></th>\n",
       "      <th>item</th>\n",
       "      <th>language</th>\n",
       "      <th>creatir</th>\n",
       "      <th>subject</th>\n",
       "      <th>title</th>\n",
       "      <th>type</th>\n",
       "      <th>item_processed</th>\n",
       "    </tr>\n",
       "  </thead>\n",
       "  <tbody>\n",
       "    <tr>\n",
       "      <th>0</th>\n",
       "      <td>125030-katalog:000000001</td>\n",
       "      <td>NaN</td>\n",
       "      <td>Fredensborg Big Band</td>\n",
       "      <td>NaN</td>\n",
       "      <td>Koncert i Copenhagen Jazz House den 1.4.1995. ...</td>\n",
       "      <td>music</td>\n",
       "      <td>000000001</td>\n",
       "    </tr>\n",
       "    <tr>\n",
       "      <th>1</th>\n",
       "      <td>125030-katalog:000000002</td>\n",
       "      <td>NaN</td>\n",
       "      <td>Klüvers Big Band</td>\n",
       "      <td>NaN</td>\n",
       "      <td>Koncert i Copenhagen Jazz House den 27.1.1995....</td>\n",
       "      <td>music</td>\n",
       "      <td>000000002</td>\n",
       "    </tr>\n",
       "    <tr>\n",
       "      <th>2</th>\n",
       "      <td>125030-katalog:000000003</td>\n",
       "      <td>NaN</td>\n",
       "      <td>Frederik Lundin</td>\n",
       "      <td>NaN</td>\n",
       "      <td>Koncert i Copenhagen Jazz House den 26.1.1995</td>\n",
       "      <td>music</td>\n",
       "      <td>000000003</td>\n",
       "    </tr>\n",
       "    <tr>\n",
       "      <th>3</th>\n",
       "      <td>125030-katalog:000000004</td>\n",
       "      <td>NaN</td>\n",
       "      <td>Horace Parlan</td>\n",
       "      <td>NaN</td>\n",
       "      <td>Koncert i Copenhagen Jazz House den 29.4.1995</td>\n",
       "      <td>music</td>\n",
       "      <td>000000004</td>\n",
       "    </tr>\n",
       "    <tr>\n",
       "      <th>4</th>\n",
       "      <td>125030-katalog:000000005</td>\n",
       "      <td>NaN</td>\n",
       "      <td>Thomas Metcalf</td>\n",
       "      <td>NaN</td>\n",
       "      <td>Koncert i Copenhagen Jazz House den 16.3.1995 ...</td>\n",
       "      <td>music</td>\n",
       "      <td>000000005</td>\n",
       "    </tr>\n",
       "  </tbody>\n",
       "</table>\n",
       "</div>"
      ],
      "text/plain": [
       "                       item language               creatir subject  \\\n",
       "0  125030-katalog:000000001      NaN  Fredensborg Big Band     NaN   \n",
       "1  125030-katalog:000000002      NaN      Klüvers Big Band     NaN   \n",
       "2  125030-katalog:000000003      NaN       Frederik Lundin     NaN   \n",
       "3  125030-katalog:000000004      NaN         Horace Parlan     NaN   \n",
       "4  125030-katalog:000000005      NaN        Thomas Metcalf     NaN   \n",
       "\n",
       "                                               title   type item_processed  \n",
       "0  Koncert i Copenhagen Jazz House den 1.4.1995. ...  music      000000001  \n",
       "1  Koncert i Copenhagen Jazz House den 27.1.1995....  music      000000002  \n",
       "2      Koncert i Copenhagen Jazz House den 26.1.1995  music      000000003  \n",
       "3      Koncert i Copenhagen Jazz House den 29.4.1995  music      000000004  \n",
       "4  Koncert i Copenhagen Jazz House den 16.3.1995 ...  music      000000005  "
      ]
     },
     "execution_count": 71,
     "metadata": {},
     "output_type": "execute_result"
    }
   ],
   "source": [
    "books.head()"
   ]
  },
  {
   "cell_type": "code",
   "execution_count": 74,
   "id": "8e6e6aa6-a2df-43de-900d-fc63a8f9337b",
   "metadata": {},
   "outputs": [],
   "source": [
    "book_indexed_books = books.set_index('item_processed', drop=True)"
   ]
  },
  {
   "cell_type": "code",
   "execution_count": 78,
   "id": "d0dbf3e6-64c4-4e3a-b4e4-f0df9d403f96",
   "metadata": {},
   "outputs": [
    {
     "data": {
      "text/html": [
       "<div>\n",
       "<style scoped>\n",
       "    .dataframe tbody tr th:only-of-type {\n",
       "        vertical-align: middle;\n",
       "    }\n",
       "\n",
       "    .dataframe tbody tr th {\n",
       "        vertical-align: top;\n",
       "    }\n",
       "\n",
       "    .dataframe thead th {\n",
       "        text-align: right;\n",
       "    }\n",
       "</style>\n",
       "<table border=\"1\" class=\"dataframe\">\n",
       "  <thead>\n",
       "    <tr style=\"text-align: right;\">\n",
       "      <th></th>\n",
       "      <th>item</th>\n",
       "      <th>language</th>\n",
       "      <th>creatir</th>\n",
       "      <th>subject</th>\n",
       "      <th>title</th>\n",
       "      <th>type</th>\n",
       "    </tr>\n",
       "    <tr>\n",
       "      <th>item_processed</th>\n",
       "      <th></th>\n",
       "      <th></th>\n",
       "      <th></th>\n",
       "      <th></th>\n",
       "      <th></th>\n",
       "      <th></th>\n",
       "    </tr>\n",
       "  </thead>\n",
       "  <tbody>\n",
       "    <tr>\n",
       "      <th>000000001</th>\n",
       "      <td>125030-katalog:000000001</td>\n",
       "      <td>NaN</td>\n",
       "      <td>Fredensborg Big Band</td>\n",
       "      <td>NaN</td>\n",
       "      <td>Koncert i Copenhagen Jazz House den 1.4.1995. ...</td>\n",
       "      <td>music</td>\n",
       "    </tr>\n",
       "    <tr>\n",
       "      <th>000000002</th>\n",
       "      <td>125030-katalog:000000002</td>\n",
       "      <td>NaN</td>\n",
       "      <td>Klüvers Big Band</td>\n",
       "      <td>NaN</td>\n",
       "      <td>Koncert i Copenhagen Jazz House den 27.1.1995....</td>\n",
       "      <td>music</td>\n",
       "    </tr>\n",
       "    <tr>\n",
       "      <th>000000003</th>\n",
       "      <td>125030-katalog:000000003</td>\n",
       "      <td>NaN</td>\n",
       "      <td>Frederik Lundin</td>\n",
       "      <td>NaN</td>\n",
       "      <td>Koncert i Copenhagen Jazz House den 26.1.1995</td>\n",
       "      <td>music</td>\n",
       "    </tr>\n",
       "    <tr>\n",
       "      <th>000000004</th>\n",
       "      <td>125030-katalog:000000004</td>\n",
       "      <td>NaN</td>\n",
       "      <td>Horace Parlan</td>\n",
       "      <td>NaN</td>\n",
       "      <td>Koncert i Copenhagen Jazz House den 29.4.1995</td>\n",
       "      <td>music</td>\n",
       "    </tr>\n",
       "    <tr>\n",
       "      <th>000000005</th>\n",
       "      <td>125030-katalog:000000005</td>\n",
       "      <td>NaN</td>\n",
       "      <td>Thomas Metcalf</td>\n",
       "      <td>NaN</td>\n",
       "      <td>Koncert i Copenhagen Jazz House den 16.3.1995 ...</td>\n",
       "      <td>music</td>\n",
       "    </tr>\n",
       "    <tr>\n",
       "      <th>...</th>\n",
       "      <td>...</td>\n",
       "      <td>...</td>\n",
       "      <td>...</td>\n",
       "      <td>...</td>\n",
       "      <td>...</td>\n",
       "      <td>...</td>\n",
       "    </tr>\n",
       "    <tr>\n",
       "      <th>110146841</th>\n",
       "      <td>875950-katalog:110146841</td>\n",
       "      <td>Dansk</td>\n",
       "      <td>NaN</td>\n",
       "      <td>[ \"Kristne Kirker og Sekter\", \"28.205\" ]</td>\n",
       "      <td>Nordisk Ugeblad for katholske Kristne. Et Tids...</td>\n",
       "      <td>book</td>\n",
       "    </tr>\n",
       "    <tr>\n",
       "      <th>110146868</th>\n",
       "      <td>875950-katalog:110146868</td>\n",
       "      <td>Latin</td>\n",
       "      <td>J. Winckelmann</td>\n",
       "      <td>[ \"Protestantiske Symboler\", \"K212 (Skab)\" ]</td>\n",
       "      <td>Augustanæ confessionis articuli illustrati</td>\n",
       "      <td>book</td>\n",
       "    </tr>\n",
       "    <tr>\n",
       "      <th>110146884</th>\n",
       "      <td>875950-katalog:110146884</td>\n",
       "      <td>Flere sprog</td>\n",
       "      <td>Max Heimbucher</td>\n",
       "      <td>[ \"27.9\", \"Kristne munke- og nonneordener i al...</td>\n",
       "      <td>Die Orden und Kongregationen der katholischen ...</td>\n",
       "      <td>book</td>\n",
       "    </tr>\n",
       "    <tr>\n",
       "      <th>110146892</th>\n",
       "      <td>875950-katalog:110146892</td>\n",
       "      <td>Engelsk</td>\n",
       "      <td>NaN</td>\n",
       "      <td>[ \"26.6\", \"Kirkelige Foreninger\", \"Kirkelige f...</td>\n",
       "      <td>The British and Foreign Bible Society (Udg.) A...</td>\n",
       "      <td>book</td>\n",
       "    </tr>\n",
       "    <tr>\n",
       "      <th>110146906</th>\n",
       "      <td>875950-katalog:110146906</td>\n",
       "      <td>Dansk</td>\n",
       "      <td>Bastholm C.</td>\n",
       "      <td>[ \"K253\", \"Forslag og Stridsskrifter med Hensy...</td>\n",
       "      <td>Liturgiske Forslag og Stridsskrifter. 1. Samling</td>\n",
       "      <td>book</td>\n",
       "    </tr>\n",
       "  </tbody>\n",
       "</table>\n",
       "<p>9182830 rows × 6 columns</p>\n",
       "</div>"
      ],
      "text/plain": [
       "                                    item     language               creatir  \\\n",
       "item_processed                                                                \n",
       "000000001       125030-katalog:000000001          NaN  Fredensborg Big Band   \n",
       "000000002       125030-katalog:000000002          NaN      Klüvers Big Band   \n",
       "000000003       125030-katalog:000000003          NaN       Frederik Lundin   \n",
       "000000004       125030-katalog:000000004          NaN         Horace Parlan   \n",
       "000000005       125030-katalog:000000005          NaN        Thomas Metcalf   \n",
       "...                                  ...          ...                   ...   \n",
       "110146841       875950-katalog:110146841        Dansk                   NaN   \n",
       "110146868       875950-katalog:110146868        Latin        J. Winckelmann   \n",
       "110146884       875950-katalog:110146884  Flere sprog        Max Heimbucher   \n",
       "110146892       875950-katalog:110146892      Engelsk                   NaN   \n",
       "110146906       875950-katalog:110146906        Dansk           Bastholm C.   \n",
       "\n",
       "                                                          subject  \\\n",
       "item_processed                                                      \n",
       "000000001                                                     NaN   \n",
       "000000002                                                     NaN   \n",
       "000000003                                                     NaN   \n",
       "000000004                                                     NaN   \n",
       "000000005                                                     NaN   \n",
       "...                                                           ...   \n",
       "110146841                [ \"Kristne Kirker og Sekter\", \"28.205\" ]   \n",
       "110146868            [ \"Protestantiske Symboler\", \"K212 (Skab)\" ]   \n",
       "110146884       [ \"27.9\", \"Kristne munke- og nonneordener i al...   \n",
       "110146892       [ \"26.6\", \"Kirkelige Foreninger\", \"Kirkelige f...   \n",
       "110146906       [ \"K253\", \"Forslag og Stridsskrifter med Hensy...   \n",
       "\n",
       "                                                            title   type  \n",
       "item_processed                                                            \n",
       "000000001       Koncert i Copenhagen Jazz House den 1.4.1995. ...  music  \n",
       "000000002       Koncert i Copenhagen Jazz House den 27.1.1995....  music  \n",
       "000000003           Koncert i Copenhagen Jazz House den 26.1.1995  music  \n",
       "000000004           Koncert i Copenhagen Jazz House den 29.4.1995  music  \n",
       "000000005       Koncert i Copenhagen Jazz House den 16.3.1995 ...  music  \n",
       "...                                                           ...    ...  \n",
       "110146841       Nordisk Ugeblad for katholske Kristne. Et Tids...   book  \n",
       "110146868              Augustanæ confessionis articuli illustrati   book  \n",
       "110146884       Die Orden und Kongregationen der katholischen ...   book  \n",
       "110146892       The British and Foreign Bible Society (Udg.) A...   book  \n",
       "110146906        Liturgiske Forslag og Stridsskrifter. 1. Samling   book  \n",
       "\n",
       "[9182830 rows x 6 columns]"
      ]
     },
     "execution_count": 78,
     "metadata": {},
     "output_type": "execute_result"
    }
   ],
   "source": [
    "book_indexed_books"
   ]
  },
  {
   "cell_type": "code",
   "execution_count": 76,
   "id": "d31d100a-51c8-49bd-8b7a-3335c81ff131",
   "metadata": {},
   "outputs": [
    {
     "data": {
      "text/plain": [
       "'27889107'"
      ]
     },
     "execution_count": 76,
     "metadata": {},
     "output_type": "execute_result"
    }
   ],
   "source": [
    "unique_items[0]"
   ]
  },
  {
   "cell_type": "code",
   "execution_count": 77,
   "id": "a77eb617-21b3-4354-89be-4754c4731c53",
   "metadata": {},
   "outputs": [
    {
     "ename": "KeyError",
     "evalue": "'27889107'",
     "output_type": "error",
     "traceback": [
      "\u001b[0;31m---------------------------------------------------------------------------\u001b[0m",
      "\u001b[0;31mKeyError\u001b[0m                                  Traceback (most recent call last)",
      "File \u001b[0;32m~/new_environment/conda/envs/enrich/lib/python3.8/site-packages/pandas/core/indexes/base.py:3653\u001b[0m, in \u001b[0;36mIndex.get_loc\u001b[0;34m(self, key)\u001b[0m\n\u001b[1;32m   3652\u001b[0m \u001b[38;5;28;01mtry\u001b[39;00m:\n\u001b[0;32m-> 3653\u001b[0m     \u001b[38;5;28;01mreturn\u001b[39;00m \u001b[38;5;28;43mself\u001b[39;49m\u001b[38;5;241;43m.\u001b[39;49m\u001b[43m_engine\u001b[49m\u001b[38;5;241;43m.\u001b[39;49m\u001b[43mget_loc\u001b[49m\u001b[43m(\u001b[49m\u001b[43mcasted_key\u001b[49m\u001b[43m)\u001b[49m\n\u001b[1;32m   3654\u001b[0m \u001b[38;5;28;01mexcept\u001b[39;00m \u001b[38;5;167;01mKeyError\u001b[39;00m \u001b[38;5;28;01mas\u001b[39;00m err:\n",
      "File \u001b[0;32m~/new_environment/conda/envs/enrich/lib/python3.8/site-packages/pandas/_libs/index.pyx:147\u001b[0m, in \u001b[0;36mpandas._libs.index.IndexEngine.get_loc\u001b[0;34m()\u001b[0m\n",
      "File \u001b[0;32m~/new_environment/conda/envs/enrich/lib/python3.8/site-packages/pandas/_libs/index.pyx:176\u001b[0m, in \u001b[0;36mpandas._libs.index.IndexEngine.get_loc\u001b[0;34m()\u001b[0m\n",
      "File \u001b[0;32mpandas/_libs/hashtable_class_helper.pxi:7080\u001b[0m, in \u001b[0;36mpandas._libs.hashtable.PyObjectHashTable.get_item\u001b[0;34m()\u001b[0m\n",
      "File \u001b[0;32mpandas/_libs/hashtable_class_helper.pxi:7088\u001b[0m, in \u001b[0;36mpandas._libs.hashtable.PyObjectHashTable.get_item\u001b[0;34m()\u001b[0m\n",
      "\u001b[0;31mKeyError\u001b[0m: '27889107'",
      "\nThe above exception was the direct cause of the following exception:\n",
      "\u001b[0;31mKeyError\u001b[0m                                  Traceback (most recent call last)",
      "Cell \u001b[0;32mIn[77], line 1\u001b[0m\n\u001b[0;32m----> 1\u001b[0m \u001b[43mbook_indexed_books\u001b[49m\u001b[43m[\u001b[49m\u001b[43munique_items\u001b[49m\u001b[43m[\u001b[49m\u001b[38;5;241;43m0\u001b[39;49m\u001b[43m]\u001b[49m\u001b[43m]\u001b[49m\n",
      "File \u001b[0;32m~/new_environment/conda/envs/enrich/lib/python3.8/site-packages/pandas/core/frame.py:3761\u001b[0m, in \u001b[0;36mDataFrame.__getitem__\u001b[0;34m(self, key)\u001b[0m\n\u001b[1;32m   3759\u001b[0m \u001b[38;5;28;01mif\u001b[39;00m \u001b[38;5;28mself\u001b[39m\u001b[38;5;241m.\u001b[39mcolumns\u001b[38;5;241m.\u001b[39mnlevels \u001b[38;5;241m>\u001b[39m \u001b[38;5;241m1\u001b[39m:\n\u001b[1;32m   3760\u001b[0m     \u001b[38;5;28;01mreturn\u001b[39;00m \u001b[38;5;28mself\u001b[39m\u001b[38;5;241m.\u001b[39m_getitem_multilevel(key)\n\u001b[0;32m-> 3761\u001b[0m indexer \u001b[38;5;241m=\u001b[39m \u001b[38;5;28;43mself\u001b[39;49m\u001b[38;5;241;43m.\u001b[39;49m\u001b[43mcolumns\u001b[49m\u001b[38;5;241;43m.\u001b[39;49m\u001b[43mget_loc\u001b[49m\u001b[43m(\u001b[49m\u001b[43mkey\u001b[49m\u001b[43m)\u001b[49m\n\u001b[1;32m   3762\u001b[0m \u001b[38;5;28;01mif\u001b[39;00m is_integer(indexer):\n\u001b[1;32m   3763\u001b[0m     indexer \u001b[38;5;241m=\u001b[39m [indexer]\n",
      "File \u001b[0;32m~/new_environment/conda/envs/enrich/lib/python3.8/site-packages/pandas/core/indexes/base.py:3655\u001b[0m, in \u001b[0;36mIndex.get_loc\u001b[0;34m(self, key)\u001b[0m\n\u001b[1;32m   3653\u001b[0m     \u001b[38;5;28;01mreturn\u001b[39;00m \u001b[38;5;28mself\u001b[39m\u001b[38;5;241m.\u001b[39m_engine\u001b[38;5;241m.\u001b[39mget_loc(casted_key)\n\u001b[1;32m   3654\u001b[0m \u001b[38;5;28;01mexcept\u001b[39;00m \u001b[38;5;167;01mKeyError\u001b[39;00m \u001b[38;5;28;01mas\u001b[39;00m err:\n\u001b[0;32m-> 3655\u001b[0m     \u001b[38;5;28;01mraise\u001b[39;00m \u001b[38;5;167;01mKeyError\u001b[39;00m(key) \u001b[38;5;28;01mfrom\u001b[39;00m \u001b[38;5;21;01merr\u001b[39;00m\n\u001b[1;32m   3656\u001b[0m \u001b[38;5;28;01mexcept\u001b[39;00m \u001b[38;5;167;01mTypeError\u001b[39;00m:\n\u001b[1;32m   3657\u001b[0m     \u001b[38;5;66;03m# If we have a listlike key, _check_indexing_error will raise\u001b[39;00m\n\u001b[1;32m   3658\u001b[0m     \u001b[38;5;66;03m#  InvalidIndexError. Otherwise we fall through and re-raise\u001b[39;00m\n\u001b[1;32m   3659\u001b[0m     \u001b[38;5;66;03m#  the TypeError.\u001b[39;00m\n\u001b[1;32m   3660\u001b[0m     \u001b[38;5;28mself\u001b[39m\u001b[38;5;241m.\u001b[39m_check_indexing_error(key)\n",
      "\u001b[0;31mKeyError\u001b[0m: '27889107'"
     ]
    }
   ],
   "source": [
    "book_indexed_books[unique_items[0]]"
   ]
  },
  {
   "cell_type": "code",
   "execution_count": null,
   "id": "eda43aea-8667-4ca2-a8bc-c4608ed7d222",
   "metadata": {},
   "outputs": [],
   "source": []
  }
 ],
 "metadata": {
  "kernelspec": {
   "display_name": "Python 3 (ipykernel)",
   "language": "python",
   "name": "python3"
  },
  "language_info": {
   "codemirror_mode": {
    "name": "ipython",
    "version": 3
   },
   "file_extension": ".py",
   "mimetype": "text/x-python",
   "name": "python",
   "nbconvert_exporter": "python",
   "pygments_lexer": "ipython3",
   "version": "3.8.18"
  }
 },
 "nbformat": 4,
 "nbformat_minor": 5
}
