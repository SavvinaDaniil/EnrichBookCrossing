{
 "cells": [
  {
   "cell_type": "markdown",
   "id": "8c8b0d11",
   "metadata": {},
   "source": [
    "# Import Libraries"
   ]
  },
  {
   "cell_type": "code",
   "execution_count": 1,
   "id": "fa45c32a",
   "metadata": {},
   "outputs": [],
   "source": [
    "import time\n",
    "from qwikidata.sparql  import return_sparql_query_results\n",
    "from qwikidata.linked_data_interface import get_entity_dict_from_api\n",
    "import pandas as pd\n",
    "import numpy as np\n",
    "import pickle as pkl\n",
    "from collections import Counter\n",
    "import urllib.request\n",
    "import json\n",
    "import string\n",
    "from difflib import SequenceMatcher\n",
    "from viapy.api import ViafAPI\n",
    "import re\n",
    "import math\n",
    "import matplotlib.pyplot as plt\n",
    "from scipy.signal import find_peaks\n",
    "\n",
    "import warnings\n",
    "warnings.simplefilter(action='ignore', category=FutureWarning)"
   ]
  },
  {
   "cell_type": "code",
   "execution_count": 2,
   "id": "4ec6f4b9",
   "metadata": {},
   "outputs": [],
   "source": [
    "location_to_save = \"data/final_files/\"\n",
    "large_location_to_save = \"data/final_files/large_files/\""
   ]
  },
  {
   "cell_type": "markdown",
   "id": "f8b06429",
   "metadata": {},
   "source": [
    "# Let's see."
   ]
  },
  {
   "cell_type": "code",
   "execution_count": 10,
   "id": "270fbb08",
   "metadata": {},
   "outputs": [],
   "source": [
    "def remove_redundant_books(author_df):\n",
    "    author_df.alt_title = author_df.alt_title.apply(lambda x: simplify(x))\n",
    "    unique_titles = author_df.alt_title.unique()\n",
    "    author_df_alt = author_df.copy()\n",
    "    for unique_title in unique_titles:\n",
    "        first_ISBN = author_df.loc[author_df.alt_title == unique_title].iloc[0].ISBN\n",
    "        author_df_alt.loc[author_df_alt.alt_title == unique_title, \"ISBN_alt\"] = first_ISBN\n",
    "        ISBN_dict = dict(zip(author_df_alt.ISBN, author_df_alt.ISBN_alt))\n",
    "    return(ISBN_dict)"
   ]
  },
  {
   "cell_type": "code",
   "execution_count": 11,
   "id": "4c9a8f8d",
   "metadata": {},
   "outputs": [],
   "source": [
    "def simplify(name):\n",
    "    name = name.replace(\" \",\"\").translate(str.maketrans('', '', string.punctuation)).lower()\n",
    "    return name"
   ]
  },
  {
   "cell_type": "code",
   "execution_count": 12,
   "id": "f40754f1",
   "metadata": {},
   "outputs": [],
   "source": [
    "entire_books = pd.read_csv(location_to_save+\"items_books_with_readable_properties.csv\", low_memory=False, index_col=0).fillna(\"\")"
   ]
  },
  {
   "cell_type": "code",
   "execution_count": 13,
   "id": "798b716b",
   "metadata": {},
   "outputs": [],
   "source": [
    "entire_books[\"ISBN_alt\"] = \"\""
   ]
  },
  {
   "cell_type": "code",
   "execution_count": 14,
   "id": "b67ff731",
   "metadata": {},
   "outputs": [],
   "source": [
    "unique_authors = entire_books[[\"QID\", \"viaf_id\"]].drop_duplicates()"
   ]
  },
  {
   "cell_type": "code",
   "execution_count": 15,
   "id": "0928c306",
   "metadata": {},
   "outputs": [
    {
     "data": {
      "text/plain": [
       "82180"
      ]
     },
     "execution_count": 15,
     "metadata": {},
     "output_type": "execute_result"
    }
   ],
   "source": [
    "len(unique_authors)"
   ]
  },
  {
   "cell_type": "code",
   "execution_count": 16,
   "id": "dff0c5be",
   "metadata": {
    "scrolled": true
   },
   "outputs": [
    {
     "name": "stdout",
     "output_type": "stream",
     "text": [
      "500 is gone!!!!!!!!! 0\n",
      "0.03922414779663086\n",
      "500 is gone!!!!!!!!! 500\n",
      "44.35216474533081\n",
      "500 is gone!!!!!!!!! 1000\n",
      "18.96273422241211\n",
      "500 is gone!!!!!!!!! 2500\n",
      "45.39629101753235\n",
      "500 is gone!!!!!!!!! 3500\n",
      "26.397749423980713\n",
      "500 is gone!!!!!!!!! 5500\n",
      "46.487560749053955\n",
      "500 is gone!!!!!!!!! 7000\n",
      "29.872409343719482\n",
      "500 is gone!!!!!!!!! 8500\n",
      "25.93448281288147\n",
      "500 is gone!!!!!!!!! 10500\n",
      "38.06102895736694\n",
      "500 is gone!!!!!!!!! 11000\n",
      "9.25963807106018\n",
      "500 is gone!!!!!!!!! 12500\n",
      "27.561559677124023\n",
      "500 is gone!!!!!!!!! 13000\n",
      "8.866279363632202\n",
      "500 is gone!!!!!!!!! 14500\n",
      "25.817970514297485\n",
      "500 is gone!!!!!!!!! 16000\n",
      "25.585728645324707\n",
      "500 is gone!!!!!!!!! 17000\n",
      "17.415254831314087\n",
      "500 is gone!!!!!!!!! 17500\n",
      "9.301963806152344\n",
      "500 is gone!!!!!!!!! 19000\n",
      "24.592336893081665\n",
      "500 is gone!!!!!!!!! 20500\n",
      "21.878334760665894\n",
      "500 is gone!!!!!!!!! 21000\n",
      "5.982553005218506\n",
      "500 is gone!!!!!!!!! 21500\n",
      "6.187631845474243\n",
      "500 is gone!!!!!!!!! 22000\n",
      "6.879296779632568\n",
      "500 is gone!!!!!!!!! 23000\n",
      "11.767699956893921\n",
      "500 is gone!!!!!!!!! 25000\n",
      "33.05598044395447\n",
      "500 is gone!!!!!!!!! 28000\n",
      "40.52718257904053\n",
      "500 is gone!!!!!!!!! 30000\n",
      "28.439786911010742\n",
      "500 is gone!!!!!!!!! 30500\n",
      "7.988458871841431\n",
      "500 is gone!!!!!!!!! 31500\n",
      "14.527241706848145\n",
      "500 is gone!!!!!!!!! 35000\n",
      "48.898972272872925\n",
      "500 is gone!!!!!!!!! 37000\n",
      "28.16057538986206\n",
      "500 is gone!!!!!!!!! 38500\n",
      "19.370362997055054\n",
      "500 is gone!!!!!!!!! 39500\n",
      "16.592753648757935\n",
      "500 is gone!!!!!!!!! 42000\n",
      "36.122403621673584\n",
      "500 is gone!!!!!!!!! 44500\n",
      "37.21704339981079\n",
      "500 is gone!!!!!!!!! 45500\n",
      "13.747710943222046\n",
      "500 is gone!!!!!!!!! 46500\n",
      "14.589443445205688\n",
      "500 is gone!!!!!!!!! 48000\n",
      "16.414938926696777\n",
      "500 is gone!!!!!!!!! 50500\n",
      "35.995052099227905\n",
      "500 is gone!!!!!!!!! 51500\n",
      "13.244535207748413\n",
      "500 is gone!!!!!!!!! 52000\n",
      "5.883781909942627\n",
      "500 is gone!!!!!!!!! 52500\n",
      "5.361209869384766\n",
      "500 is gone!!!!!!!!! 53500\n",
      "11.49144721031189\n",
      "500 is gone!!!!!!!!! 54500\n",
      "15.01823878288269\n",
      "500 is gone!!!!!!!!! 56500\n",
      "25.645803928375244\n",
      "500 is gone!!!!!!!!! 57000\n",
      "6.398574113845825\n",
      "500 is gone!!!!!!!!! 59500\n",
      "26.43302059173584\n",
      "500 is gone!!!!!!!!! 61000\n",
      "16.873619318008423\n",
      "500 is gone!!!!!!!!! 63000\n",
      "21.76127290725708\n",
      "500 is gone!!!!!!!!! 63500\n",
      "5.233273029327393\n",
      "500 is gone!!!!!!!!! 65500\n",
      "21.9448561668396\n",
      "500 is gone!!!!!!!!! 66000\n",
      "6.666716814041138\n",
      "500 is gone!!!!!!!!! 71500\n",
      "63.457443952560425\n",
      "500 is gone!!!!!!!!! 73500\n",
      "21.303935289382935\n",
      "500 is gone!!!!!!!!! 78000\n",
      "45.864612102508545\n",
      "500 is gone!!!!!!!!! 78500\n",
      "6.1199562549591064\n",
      "500 is gone!!!!!!!!! 80000\n",
      "13.726186275482178\n",
      "500 is gone!!!!!!!!! 81500\n",
      "17.294103145599365\n",
      "500 is gone!!!!!!!!! 82000\n",
      "4.3271684646606445\n",
      "500 is gone!!!!!!!!! 84000\n",
      "23.744795083999634\n",
      "500 is gone!!!!!!!!! 85500\n",
      "20.095611572265625\n",
      "500 is gone!!!!!!!!! 86000\n",
      "4.634626626968384\n",
      "500 is gone!!!!!!!!! 87000\n",
      "11.903248071670532\n",
      "500 is gone!!!!!!!!! 87500\n",
      "5.754617214202881\n",
      "500 is gone!!!!!!!!! 89000\n",
      "16.424166917800903\n",
      "500 is gone!!!!!!!!! 89500\n",
      "6.322954177856445\n",
      "500 is gone!!!!!!!!! 90000\n",
      "6.795941114425659\n",
      "500 is gone!!!!!!!!! 91000\n",
      "12.381654739379883\n",
      "500 is gone!!!!!!!!! 93500\n",
      "27.965857982635498\n",
      "500 is gone!!!!!!!!! 94000\n",
      "6.392544507980347\n",
      "500 is gone!!!!!!!!! 95000\n",
      "9.074846029281616\n",
      "500 is gone!!!!!!!!! 95500\n",
      "5.52048397064209\n",
      "500 is gone!!!!!!!!! 97500\n",
      "22.88491702079773\n",
      "500 is gone!!!!!!!!! 98500\n",
      "11.036375522613525\n",
      "500 is gone!!!!!!!!! 99000\n",
      "5.5484678745269775\n",
      "500 is gone!!!!!!!!! 101500\n",
      "27.671504259109497\n",
      "500 is gone!!!!!!!!! 103500\n",
      "15.538702249526978\n",
      "500 is gone!!!!!!!!! 104500\n",
      "10.167818069458008\n",
      "500 is gone!!!!!!!!! 106000\n",
      "16.312613010406494\n",
      "500 is gone!!!!!!!!! 106500\n",
      "5.098809242248535\n",
      "500 is gone!!!!!!!!! 107500\n",
      "12.953199863433838\n",
      "500 is gone!!!!!!!!! 108500\n",
      "12.942805528640747\n",
      "500 is gone!!!!!!!!! 109000\n",
      "5.84734034538269\n",
      "500 is gone!!!!!!!!! 111000\n",
      "23.5779812335968\n",
      "500 is gone!!!!!!!!! 112000\n",
      "11.36050534248352\n",
      "500 is gone!!!!!!!!! 113000\n",
      "11.340733051300049\n",
      "500 is gone!!!!!!!!! 113500\n",
      "6.7996063232421875\n",
      "500 is gone!!!!!!!!! 116000\n",
      "28.686659336090088\n",
      "500 is gone!!!!!!!!! 117500\n",
      "16.40853500366211\n",
      "500 is gone!!!!!!!!! 118000\n",
      "8.25538420677185\n",
      "500 is gone!!!!!!!!! 118500\n",
      "5.303776741027832\n",
      "500 is gone!!!!!!!!! 121500\n",
      "30.98508906364441\n",
      "500 is gone!!!!!!!!! 122500\n",
      "10.491425514221191\n",
      "500 is gone!!!!!!!!! 125000\n",
      "28.04043698310852\n",
      "500 is gone!!!!!!!!! 126000\n",
      "9.802279472351074\n",
      "500 is gone!!!!!!!!! 128000\n",
      "19.195740222930908\n",
      "500 is gone!!!!!!!!! 129000\n",
      "5.723466157913208\n",
      "500 is gone!!!!!!!!! 130500\n",
      "13.05298924446106\n",
      "500 is gone!!!!!!!!! 132000\n",
      "16.93030548095703\n",
      "500 is gone!!!!!!!!! 132500\n",
      "5.51963472366333\n",
      "500 is gone!!!!!!!!! 135000\n",
      "26.38713240623474\n",
      "500 is gone!!!!!!!!! 136000\n",
      "9.829298257827759\n",
      "500 is gone!!!!!!!!! 137000\n",
      "10.397953271865845\n",
      "500 is gone!!!!!!!!! 137500\n",
      "5.127974271774292\n",
      "500 is gone!!!!!!!!! 140000\n",
      "21.70533776283264\n",
      "500 is gone!!!!!!!!! 141000\n",
      "7.730593681335449\n",
      "500 is gone!!!!!!!!! 142500\n",
      "13.971483945846558\n",
      "500 is gone!!!!!!!!! 143000\n",
      "5.309342861175537\n",
      "500 is gone!!!!!!!!! 143500\n",
      "4.0224785804748535\n",
      "500 is gone!!!!!!!!! 144000\n",
      "5.980454683303833\n",
      "500 is gone!!!!!!!!! 145000\n",
      "9.115608215332031\n",
      "500 is gone!!!!!!!!! 145500\n",
      "5.478940486907959\n",
      "500 is gone!!!!!!!!! 146000\n",
      "5.596520185470581\n",
      "500 is gone!!!!!!!!! 147500\n",
      "15.259421110153198\n",
      "500 is gone!!!!!!!!! 148000\n",
      "5.282289266586304\n",
      "500 is gone!!!!!!!!! 150500\n",
      "23.598106622695923\n",
      "500 is gone!!!!!!!!! 151500\n",
      "8.476148128509521\n",
      "500 is gone!!!!!!!!! 154500\n",
      "27.68286943435669\n",
      "500 is gone!!!!!!!!! 156000\n",
      "16.71037244796753\n",
      "500 is gone!!!!!!!!! 160500\n",
      "46.296024799346924\n",
      "500 is gone!!!!!!!!! 162000\n",
      "16.497169494628906\n",
      "500 is gone!!!!!!!!! 163000\n",
      "10.600459337234497\n",
      "500 is gone!!!!!!!!! 163500\n",
      "6.075048923492432\n",
      "500 is gone!!!!!!!!! 166500\n",
      "31.483723640441895\n",
      "500 is gone!!!!!!!!! 173500\n",
      "63.133883237838745\n",
      "500 is gone!!!!!!!!! 174000\n",
      "5.012187719345093\n",
      "500 is gone!!!!!!!!! 176000\n",
      "21.018869400024414\n",
      "500 is gone!!!!!!!!! 177000\n",
      "8.962491750717163\n",
      "500 is gone!!!!!!!!! 178500\n",
      "15.504399538040161\n",
      "500 is gone!!!!!!!!! 179500\n",
      "11.607591390609741\n",
      "500 is gone!!!!!!!!! 181000\n",
      "13.895297288894653\n",
      "500 is gone!!!!!!!!! 181500\n",
      "5.1798295974731445\n",
      "500 is gone!!!!!!!!! 186500\n",
      "47.05269241333008\n",
      "500 is gone!!!!!!!!! 188500\n",
      "18.447101831436157\n",
      "500 is gone!!!!!!!!! 190500\n",
      "21.186126232147217\n",
      "500 is gone!!!!!!!!! 192000\n",
      "15.741617441177368\n",
      "500 is gone!!!!!!!!! 194500\n",
      "28.200555324554443\n",
      "500 is gone!!!!!!!!! 197500\n",
      "33.47727131843567\n",
      "500 is gone!!!!!!!!! 198500\n",
      "9.524516820907593\n",
      "500 is gone!!!!!!!!! 204500\n",
      "62.80404281616211\n",
      "500 is gone!!!!!!!!! 206000\n",
      "15.8384268283844\n",
      "500 is gone!!!!!!!!! 207500\n",
      "15.35320258140564\n",
      "500 is gone!!!!!!!!! 208000\n",
      "4.109066009521484\n",
      "500 is gone!!!!!!!!! 208500\n",
      "5.177249193191528\n",
      "500 is gone!!!!!!!!! 211000\n",
      "25.287938356399536\n",
      "500 is gone!!!!!!!!! 212000\n",
      "10.14375615119934\n",
      "500 is gone!!!!!!!!! 214500\n",
      "26.050337076187134\n",
      "500 is gone!!!!!!!!! 215500\n",
      "8.379277229309082\n",
      "500 is gone!!!!!!!!! 216000\n",
      "5.583173036575317\n",
      "500 is gone!!!!!!!!! 219000\n",
      "23.388909578323364\n",
      "500 is gone!!!!!!!!! 224000\n",
      "51.70305275917053\n",
      "500 is gone!!!!!!!!! 224500\n",
      "4.895112991333008\n",
      "500 is gone!!!!!!!!! 232500\n",
      "76.59405064582825\n",
      "500 is gone!!!!!!!!! 234500\n",
      "18.7657687664032\n",
      "500 is gone!!!!!!!!! 237000\n",
      "25.321558237075806\n",
      "500 is gone!!!!!!!!! 240500\n",
      "32.01486563682556\n",
      "500 is gone!!!!!!!!! 241500\n",
      "10.61665678024292\n",
      "500 is gone!!!!!!!!! 242500\n",
      "9.15481686592102\n",
      "500 is gone!!!!!!!!! 243000\n",
      "4.988454818725586\n",
      "500 is gone!!!!!!!!! 246000\n",
      "25.29410719871521\n",
      "500 is gone!!!!!!!!! 247500\n",
      "13.778531312942505\n",
      "500 is gone!!!!!!!!! 250000\n",
      "18.577409744262695\n",
      "500 is gone!!!!!!!!! 250500\n",
      "5.094952344894409\n",
      "500 is gone!!!!!!!!! 253500\n",
      "28.318130016326904\n",
      "500 is gone!!!!!!!!! 254000\n",
      "6.044541358947754\n",
      "500 is gone!!!!!!!!! 258000\n",
      "41.496779918670654\n",
      "500 is gone!!!!!!!!! 258500\n",
      "4.069991588592529\n",
      "500 is gone!!!!!!!!! 263500\n",
      "43.35070466995239\n",
      "500 is gone!!!!!!!!! 265500\n",
      "19.150753021240234\n",
      "500 is gone!!!!!!!!! 267000\n",
      "12.260180234909058\n",
      "500 is gone!!!!!!!!! 268000\n",
      "8.51912784576416\n",
      "500 is gone!!!!!!!!! 268500\n",
      "4.081966161727905\n"
     ]
    }
   ],
   "source": [
    "start = time.time()\n",
    "large_ISBN_dict = {}\n",
    "for index, row in unique_authors.iterrows():\n",
    "    viaf_id = row.viaf_id\n",
    "    QID = row.QID\n",
    "    author_df = entire_books[(entire_books.QID==QID)&(entire_books.viaf_id==viaf_id)][[\"ISBN\", \n",
    "                                                                                       \"title\",\n",
    "                                                                                      \"alt_title\",\n",
    "                                                                                      \"ISBN_alt\"]]\n",
    "    ISBN_dict = remove_redundant_books(author_df)\n",
    "    large_ISBN_dict.update(ISBN_dict)\n",
    "    del author_df\n",
    "    del ISBN_dict\n",
    "    if index%500==0:\n",
    "        print(\"500 is gone!!!!!!!!!\", index)\n",
    "        print(time.time()-start)\n",
    "        start = time.time()\n",
    "        with open('ISBN_dict.pkl', 'wb') as handle:\n",
    "            pkl.dump(large_ISBN_dict, handle)\n"
   ]
  },
  {
   "cell_type": "code",
   "execution_count": 17,
   "id": "6badc183",
   "metadata": {},
   "outputs": [],
   "source": [
    " with open('ISBN_dict.pkl', 'wb') as handle:\n",
    "            pkl.dump(large_ISBN_dict, handle)"
   ]
  },
  {
   "cell_type": "code",
   "execution_count": 18,
   "id": "a205fb16",
   "metadata": {},
   "outputs": [
    {
     "data": {
      "text/plain": [
       "271360"
      ]
     },
     "execution_count": 18,
     "metadata": {},
     "output_type": "execute_result"
    }
   ],
   "source": [
    "len(large_ISBN_dict.keys())"
   ]
  },
  {
   "cell_type": "code",
   "execution_count": 19,
   "id": "eb583ada",
   "metadata": {},
   "outputs": [
    {
     "data": {
      "text/plain": [
       "271360"
      ]
     },
     "execution_count": 19,
     "metadata": {},
     "output_type": "execute_result"
    }
   ],
   "source": [
    "len(np.unique(list(large_ISBN_dict.keys())))"
   ]
  },
  {
   "cell_type": "code",
   "execution_count": 20,
   "id": "1903cdba",
   "metadata": {},
   "outputs": [
    {
     "data": {
      "text/plain": [
       "220266"
      ]
     },
     "execution_count": 20,
     "metadata": {},
     "output_type": "execute_result"
    }
   ],
   "source": [
    "len(np.unique(list(large_ISBN_dict.values())))"
   ]
  },
  {
   "cell_type": "markdown",
   "id": "7eb17fff",
   "metadata": {},
   "source": [
    "# Result"
   ]
  },
  {
   "cell_type": "code",
   "execution_count": 3,
   "id": "24f62167",
   "metadata": {},
   "outputs": [],
   "source": [
    "with open('ISBN_dict.pkl', 'rb') as handle:\n",
    "        large_ISBN_dict = pkl.load(handle)"
   ]
  },
  {
   "cell_type": "markdown",
   "id": "58c3c887",
   "metadata": {},
   "source": [
    "# Fill in"
   ]
  },
  {
   "cell_type": "code",
   "execution_count": 13,
   "id": "0023038b",
   "metadata": {},
   "outputs": [],
   "source": [
    "entire_books[\"ISBN_alt\"] = \"\""
   ]
  },
  {
   "cell_type": "code",
   "execution_count": 14,
   "id": "3206070b",
   "metadata": {},
   "outputs": [],
   "source": [
    "for index, row in entire_books.iterrows():\n",
    "    if row.alt_title!=\"\":\n",
    "        ISBN = row.ISBN\n",
    "        ISBN_alt = large_ISBN_dict[ISBN]\n",
    "        entire_books.at[index, \"ISBN_alt\"] = ISBN_alt"
   ]
  },
  {
   "cell_type": "code",
   "execution_count": 15,
   "id": "68068ca7",
   "metadata": {},
   "outputs": [],
   "source": [
    "entire_books.to_csv(location_to_save+\"items_books_with_readable_properties_correct_ISBN.csv\")"
   ]
  }
 ],
 "metadata": {
  "kernelspec": {
   "display_name": "Python 3 (ipykernel)",
   "language": "python",
   "name": "python3"
  },
  "language_info": {
   "codemirror_mode": {
    "name": "ipython",
    "version": 3
   },
   "file_extension": ".py",
   "mimetype": "text/x-python",
   "name": "python",
   "nbconvert_exporter": "python",
   "pygments_lexer": "ipython3",
   "version": "3.9.12"
  }
 },
 "nbformat": 4,
 "nbformat_minor": 5
}
