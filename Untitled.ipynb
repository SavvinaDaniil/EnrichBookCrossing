{
 "cells": [
  {
   "cell_type": "markdown",
   "id": "8c8b0d11",
   "metadata": {},
   "source": [
    "# Import Libraries"
   ]
  },
  {
   "cell_type": "code",
   "execution_count": 56,
   "id": "fa45c32a",
   "metadata": {},
   "outputs": [],
   "source": [
    "import time\n",
    "from qwikidata.sparql  import return_sparql_query_results\n",
    "from qwikidata.linked_data_interface import get_entity_dict_from_api\n",
    "import pandas as pd\n",
    "import numpy as np\n",
    "import pickle as pkl\n",
    "from collections import Counter\n",
    "import urllib.request\n",
    "import json\n",
    "import string\n",
    "from difflib import SequenceMatcher\n",
    "from viapy.api import ViafAPI\n",
    "import re\n",
    "import math\n",
    "import matplotlib.pyplot as plt\n",
    "from scipy.signal import find_peaks\n",
    "\n",
    "import warnings\n",
    "warnings.simplefilter(action='ignore', category=FutureWarning)"
   ]
  },
  {
   "cell_type": "code",
   "execution_count": 57,
   "id": "4ec6f4b9",
   "metadata": {},
   "outputs": [],
   "source": [
    "location_to_save = \"data/final_files/\"\n",
    "large_location_to_save = \"data/final_files/large_files/\""
   ]
  },
  {
   "cell_type": "markdown",
   "id": "f8b06429",
   "metadata": {},
   "source": [
    "# Let's see."
   ]
  },
  {
   "cell_type": "code",
   "execution_count": 89,
   "id": "270fbb08",
   "metadata": {},
   "outputs": [],
   "source": [
    "def remove_redundant_books(author_df):\n",
    "    author_df.alt_title = author_df.alt_title.apply(lambda x: simplify(x))\n",
    "    unique_titles = author_df.alt_title.unique()\n",
    "    author_df_alt = author_df.copy()\n",
    "    for unique_title in unique_titles:\n",
    "        first_ISBN = author_df.loc[author_df.alt_title == unique_title].iloc[0].ISBN\n",
    "        author_df_alt.loc[author_df_alt.alt_title == unique_title, \"ISBN_alt\"] = first_ISBN\n",
    "        ISBN_dict = dict(zip(author_df_alt.ISBN, author_df_alt.ISBN_alt))\n",
    "    return(ISBN_dict)"
   ]
  },
  {
   "cell_type": "code",
   "execution_count": 59,
   "id": "4c9a8f8d",
   "metadata": {},
   "outputs": [],
   "source": [
    "def simplify(name):\n",
    "    name = name.replace(\" \",\"\").translate(str.maketrans('', '', string.punctuation)).lower()\n",
    "    return name"
   ]
  },
  {
   "cell_type": "code",
   "execution_count": 60,
   "id": "f40754f1",
   "metadata": {},
   "outputs": [],
   "source": [
    "entire_books = pd.read_csv(location_to_save+\"items_books_with_readable_properties.csv\", low_memory=False, index_col=0).fillna(\"\")"
   ]
  },
  {
   "cell_type": "code",
   "execution_count": 61,
   "id": "798b716b",
   "metadata": {},
   "outputs": [],
   "source": [
    "entire_books[\"ISBN_alt\"] = \"\""
   ]
  },
  {
   "cell_type": "code",
   "execution_count": 62,
   "id": "b67ff731",
   "metadata": {},
   "outputs": [],
   "source": [
    "unique_authors = entire_books[[\"QID\", \"viaf_id\"]].drop_duplicates()"
   ]
  },
  {
   "cell_type": "code",
   "execution_count": 102,
   "id": "0928c306",
   "metadata": {},
   "outputs": [
    {
     "data": {
      "text/plain": [
       "82180"
      ]
     },
     "execution_count": 102,
     "metadata": {},
     "output_type": "execute_result"
    }
   ],
   "source": [
    "len(unique_authors)"
   ]
  },
  {
   "cell_type": "code",
   "execution_count": null,
   "id": "dff0c5be",
   "metadata": {
    "scrolled": true
   },
   "outputs": [
    {
     "name": "stdout",
     "output_type": "stream",
     "text": [
      "100 is gone!!!!!!!!! 0\n",
      "0.03722786903381348\n",
      "100 is gone!!!!!!!!! 100\n",
      "27.41657018661499\n",
      "100 is gone!!!!!!!!! 400\n",
      "13.60386347770691\n",
      "100 is gone!!!!!!!!! 500\n",
      "3.5476417541503906\n",
      "100 is gone!!!!!!!!! 800\n",
      "11.097190856933594\n",
      "100 is gone!!!!!!!!! 1000\n",
      "7.913501501083374\n",
      "100 is gone!!!!!!!!! 1200\n",
      "6.379291534423828\n",
      "100 is gone!!!!!!!!! 1300\n",
      "3.22778058052063\n",
      "100 is gone!!!!!!!!! 1400\n",
      "3.6448047161102295\n",
      "100 is gone!!!!!!!!! 1700\n",
      "9.906432390213013\n",
      "100 is gone!!!!!!!!! 1800\n",
      "2.9711780548095703\n",
      "100 is gone!!!!!!!!! 1900\n",
      "3.0277607440948486\n",
      "100 is gone!!!!!!!!! 2200\n",
      "8.878334283828735\n",
      "100 is gone!!!!!!!!! 2300\n",
      "2.4432637691497803\n",
      "100 is gone!!!!!!!!! 2400\n",
      "2.684303045272827\n",
      "100 is gone!!!!!!!!! 2500\n",
      "2.317847967147827\n",
      "100 is gone!!!!!!!!! 3400\n",
      "24.112184286117554\n",
      "100 is gone!!!!!!!!! 3500\n",
      "2.14691424369812\n",
      "100 is gone!!!!!!!!! 3600\n",
      "2.9813930988311768\n",
      "100 is gone!!!!!!!!! 3700\n",
      "2.1546645164489746\n",
      "100 is gone!!!!!!!!! 3900\n",
      "4.491462230682373\n",
      "100 is gone!!!!!!!!! 4100\n",
      "4.603585243225098\n",
      "100 is gone!!!!!!!!! 4300\n",
      "4.176467657089233\n",
      "100 is gone!!!!!!!!! 4400\n",
      "2.0987308025360107\n",
      "100 is gone!!!!!!!!! 4800\n",
      "9.8080735206604\n",
      "100 is gone!!!!!!!!! 5200\n",
      "9.504477977752686\n",
      "100 is gone!!!!!!!!! 5300\n",
      "2.2204675674438477\n",
      "100 is gone!!!!!!!!! 5500\n",
      "4.33803129196167\n",
      "100 is gone!!!!!!!!! 5700\n",
      "4.581495046615601\n",
      "100 is gone!!!!!!!!! 5900\n",
      "3.7212817668914795\n",
      "100 is gone!!!!!!!!! 6200\n",
      "5.8666911125183105\n",
      "100 is gone!!!!!!!!! 6300\n",
      "2.0144097805023193\n",
      "100 is gone!!!!!!!!! 6600\n",
      "6.08554744720459\n",
      "100 is gone!!!!!!!!! 6800\n",
      "3.4348340034484863\n",
      "100 is gone!!!!!!!!! 6900\n",
      "2.1345925331115723\n",
      "100 is gone!!!!!!!!! 7000\n",
      "2.131575345993042\n",
      "100 is gone!!!!!!!!! 7100\n",
      "2.3643248081207275\n",
      "100 is gone!!!!!!!!! 7600\n",
      "8.420985460281372\n",
      "100 is gone!!!!!!!!! 8300\n",
      "11.447107315063477\n",
      "100 is gone!!!!!!!!! 8500\n",
      "3.705526113510132\n",
      "100 is gone!!!!!!!!! 8800\n",
      "6.127362966537476\n",
      "100 is gone!!!!!!!!! 8900\n",
      "2.0789453983306885\n",
      "100 is gone!!!!!!!!! 9100\n",
      "3.255387783050537\n",
      "100 is gone!!!!!!!!! 9200\n",
      "2.035707950592041\n",
      "100 is gone!!!!!!!!! 9300\n",
      "1.7291643619537354\n",
      "100 is gone!!!!!!!!! 9700\n",
      "7.532353162765503\n",
      "100 is gone!!!!!!!!! 9800\n",
      "2.394361972808838\n",
      "100 is gone!!!!!!!!! 9900\n",
      "1.5986487865447998\n",
      "100 is gone!!!!!!!!! 10400\n",
      "9.558767795562744\n",
      "100 is gone!!!!!!!!! 10500\n",
      "1.8881199359893799\n",
      "100 is gone!!!!!!!!! 10600\n",
      "1.415973424911499\n",
      "100 is gone!!!!!!!!! 10700\n",
      "1.9843132495880127\n",
      "100 is gone!!!!!!!!! 10800\n",
      "1.9181044101715088\n",
      "100 is gone!!!!!!!!! 10900\n",
      "2.261052131652832\n",
      "100 is gone!!!!!!!!! 11000\n",
      "1.7871179580688477\n",
      "100 is gone!!!!!!!!! 11200\n",
      "3.8864972591400146\n",
      "100 is gone!!!!!!!!! 11300\n",
      "2.1791605949401855\n",
      "100 is gone!!!!!!!!! 11400\n",
      "2.2640273571014404\n",
      "100 is gone!!!!!!!!! 11600\n",
      "3.471949577331543\n",
      "100 is gone!!!!!!!!! 11700\n",
      "1.4233567714691162\n",
      "100 is gone!!!!!!!!! 12100\n",
      "7.759887456893921\n",
      "100 is gone!!!!!!!!! 12200\n",
      "1.7679591178894043\n",
      "100 is gone!!!!!!!!! 12300\n",
      "1.8740675449371338\n",
      "100 is gone!!!!!!!!! 12500\n",
      "3.1764450073242188\n",
      "100 is gone!!!!!!!!! 12700\n",
      "3.6355326175689697\n",
      "100 is gone!!!!!!!!! 12800\n",
      "1.6753637790679932\n",
      "100 is gone!!!!!!!!! 13000\n",
      "3.633838653564453\n",
      "100 is gone!!!!!!!!! 13400\n",
      "7.46656608581543\n",
      "100 is gone!!!!!!!!! 13600\n",
      "3.334982395172119\n",
      "100 is gone!!!!!!!!! 13800\n",
      "3.4431607723236084\n",
      "100 is gone!!!!!!!!! 14100\n",
      "5.365877628326416\n",
      "100 is gone!!!!!!!!! 14500\n",
      "6.276447296142578\n",
      "100 is gone!!!!!!!!! 14600\n",
      "2.357349395751953\n",
      "100 is gone!!!!!!!!! 14800\n",
      "3.5511505603790283\n",
      "100 is gone!!!!!!!!! 14900\n",
      "1.9108593463897705\n",
      "100 is gone!!!!!!!!! 15700\n",
      "12.127006769180298\n",
      "100 is gone!!!!!!!!! 15900\n",
      "3.5223944187164307\n",
      "100 is gone!!!!!!!!! 16000\n",
      "2.264204740524292\n",
      "100 is gone!!!!!!!!! 16900\n",
      "14.807411909103394\n",
      "100 is gone!!!!!!!!! 17000\n",
      "2.718653917312622\n",
      "100 is gone!!!!!!!!! 17100\n",
      "1.500802993774414\n",
      "100 is gone!!!!!!!!! 17200\n",
      "2.080399990081787\n"
     ]
    }
   ],
   "source": [
    "start = time.time()\n",
    "large_ISBN_dict = {}\n",
    "for index, row in unique_authors.iterrows():\n",
    "    viaf_id = row.viaf_id\n",
    "    QID = row.QID\n",
    "    author_df = entire_books[(entire_books.QID==QID)&(entire_books.viaf_id==viaf_id)][[\"ISBN\", \n",
    "                                                                                       \"title\",\n",
    "                                                                                      \"alt_title\",\n",
    "                                                                                      \"ISBN_alt\"]]\n",
    "    ISBN_dict = remove_redundant_books(author_df)\n",
    "    large_ISBN_dict.update(ISBN_dict)\n",
    "    del author_df\n",
    "    del ISBN_dict\n",
    "    if index%100==0:\n",
    "        print(\"100 is gone!!!!!!!!!\", index)\n",
    "        print(time.time()-start)\n",
    "        start = time.time()\n",
    "        with open('ISBN_dict.pkl', 'wb') as handle:\n",
    "            pkl.dump(large_ISBN_dict, handle)\n"
   ]
  },
  {
   "cell_type": "code",
   "execution_count": 99,
   "id": "a205fb16",
   "metadata": {},
   "outputs": [
    {
     "data": {
      "text/plain": [
       "18727"
      ]
     },
     "execution_count": 99,
     "metadata": {},
     "output_type": "execute_result"
    }
   ],
   "source": [
    "len(large_ISBN_dict.keys())"
   ]
  },
  {
   "cell_type": "code",
   "execution_count": 100,
   "id": "eb583ada",
   "metadata": {},
   "outputs": [
    {
     "data": {
      "text/plain": [
       "18727"
      ]
     },
     "execution_count": 100,
     "metadata": {},
     "output_type": "execute_result"
    }
   ],
   "source": [
    "len(np.unique(list(large_ISBN_dict.keys())))"
   ]
  },
  {
   "cell_type": "code",
   "execution_count": 101,
   "id": "1903cdba",
   "metadata": {},
   "outputs": [
    {
     "data": {
      "text/plain": [
       "12167"
      ]
     },
     "execution_count": 101,
     "metadata": {},
     "output_type": "execute_result"
    }
   ],
   "source": [
    "len(np.unique(list(large_ISBN_dict.values())))"
   ]
  },
  {
   "cell_type": "code",
   "execution_count": null,
   "id": "f1037eba",
   "metadata": {},
   "outputs": [],
   "source": []
  }
 ],
 "metadata": {
  "kernelspec": {
   "display_name": "Python 3",
   "language": "python",
   "name": "python3"
  },
  "language_info": {
   "codemirror_mode": {
    "name": "ipython",
    "version": 3
   },
   "file_extension": ".py",
   "mimetype": "text/x-python",
   "name": "python",
   "nbconvert_exporter": "python",
   "pygments_lexer": "ipython3",
   "version": "3.6.5"
  }
 },
 "nbformat": 4,
 "nbformat_minor": 5
}
