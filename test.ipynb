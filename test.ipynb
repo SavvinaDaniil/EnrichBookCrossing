{
 "cells": [
  {
   "cell_type": "code",
   "execution_count": 205,
   "id": "2a9201e2",
   "metadata": {},
   "outputs": [],
   "source": [
    "import pandas as pd\n",
    "location_to_save = \"data/final_files/\""
   ]
  },
  {
   "cell_type": "code",
   "execution_count": 225,
   "id": "d8a86ca6",
   "metadata": {},
   "outputs": [],
   "source": [
    "import time\n",
    "from qwikidata.sparql  import return_sparql_query_results\n",
    "import pandas as pd\n",
    "import numpy as np\n",
    "import pickle as pkl\n",
    "from collections import Counter\n",
    "import urllib.request\n",
    "import json\n",
    "import string\n",
    "\n",
    "import warnings\n",
    "warnings.simplefilter(action='ignore', category=FutureWarning)"
   ]
  },
  {
   "cell_type": "code",
   "execution_count": 232,
   "id": "85111f50",
   "metadata": {},
   "outputs": [],
   "source": [
    "books = pd.read_csv(location_to_save+\"items_books_after_viaf.csv\", dtype=object, index_col=0).fillna(\"\")"
   ]
  },
  {
   "cell_type": "code",
   "execution_count": 233,
   "id": "b2a8f9af",
   "metadata": {},
   "outputs": [],
   "source": [
    "new_books = books[books.correct_author==\"\"].drop_duplicates([\"author\", \"alt_first_author\"])"
   ]
  },
  {
   "cell_type": "code",
   "execution_count": 234,
   "id": "9b6634b8",
   "metadata": {},
   "outputs": [
    {
     "data": {
      "text/plain": [
       "(15732, 9585)"
      ]
     },
     "execution_count": 234,
     "metadata": {},
     "output_type": "execute_result"
    }
   ],
   "source": [
    "len(new_books), len(new_books[(new_books.viaf_id!=\"||\")&(new_books.viaf_id!=\"\")])"
   ]
  },
  {
   "cell_type": "code",
   "execution_count": 235,
   "id": "31905f28",
   "metadata": {},
   "outputs": [],
   "source": [
    "new_books[\"viaf_1\"] = new_books.viaf_id.apply(lambda x: x.split(\"||\")[0])\n",
    "new_books[\"viaf_2\"] = new_books.viaf_id.apply(lambda x: x.split(\"||\")[1] if \"||\" in x else \"\")"
   ]
  },
  {
   "cell_type": "code",
   "execution_count": 236,
   "id": "7fd859fc",
   "metadata": {},
   "outputs": [
    {
     "data": {
      "text/plain": [
       "1020"
      ]
     },
     "execution_count": 236,
     "metadata": {},
     "output_type": "execute_result"
    }
   ],
   "source": [
    "(new_books[(new_books.viaf_id!=\"||\")&(new_books.viaf_id!=\"\")].viaf_1 == new_books[(new_books.viaf_id!=\"||\")&(new_books.viaf_id!=\"\")].viaf_2).sum()"
   ]
  },
  {
   "cell_type": "code",
   "execution_count": 237,
   "id": "0aabe491",
   "metadata": {},
   "outputs": [
    {
     "data": {
      "text/plain": [
       "2879"
      ]
     },
     "execution_count": 237,
     "metadata": {},
     "output_type": "execute_result"
    }
   ],
   "source": [
    "(new_books[(new_books.viaf_1!=\"\")&(new_books.viaf_2!=\"\")].viaf_1 != new_books[(new_books.viaf_1!=\"\")&(new_books.viaf_2!=\"\")].viaf_2).sum()"
   ]
  },
  {
   "cell_type": "code",
   "execution_count": null,
   "id": "534de8c7",
   "metadata": {},
   "outputs": [],
   "source": []
  }
 ],
 "metadata": {
  "kernelspec": {
   "display_name": "Python 3",
   "language": "python",
   "name": "python3"
  },
  "language_info": {
   "codemirror_mode": {
    "name": "ipython",
    "version": 3
   },
   "file_extension": ".py",
   "mimetype": "text/x-python",
   "name": "python",
   "nbconvert_exporter": "python",
   "pygments_lexer": "ipython3",
   "version": "3.6.5"
  }
 },
 "nbformat": 4,
 "nbformat_minor": 5
}
