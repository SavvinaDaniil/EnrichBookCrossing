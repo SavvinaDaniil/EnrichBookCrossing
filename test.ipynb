{
 "cells": [
  {
   "cell_type": "code",
   "execution_count": 3,
   "id": "2a9201e2",
   "metadata": {},
   "outputs": [],
   "source": [
    "import pandas as pd\n",
    "location_to_save = \"data/final_files/\""
   ]
  },
  {
   "cell_type": "code",
   "execution_count": 4,
   "id": "d8a86ca6",
   "metadata": {},
   "outputs": [],
   "source": [
    "import time\n",
    "from qwikidata.sparql  import return_sparql_query_results\n",
    "import pandas as pd\n",
    "import numpy as np\n",
    "import pickle as pkl\n",
    "from collections import Counter\n",
    "import urllib.request\n",
    "import json\n",
    "import string\n",
    "\n",
    "import warnings\n",
    "warnings.simplefilter(action='ignore', category=FutureWarning)"
   ]
  },
  {
   "cell_type": "code",
   "execution_count": 53,
   "id": "85111f50",
   "metadata": {},
   "outputs": [],
   "source": [
    "books = pd.read_csv(location_to_save+\"items_books_after_viaf.csv\", dtype=object, index_col=0).fillna(\"\")"
   ]
  },
  {
   "cell_type": "code",
   "execution_count": 54,
   "id": "316b5c4d",
   "metadata": {},
   "outputs": [
    {
     "data": {
      "text/plain": [
       "86193"
      ]
     },
     "execution_count": 54,
     "metadata": {},
     "output_type": "execute_result"
    }
   ],
   "source": [
    "len(books[books.correct_author!=\"\"].drop_duplicates(\"correct_author\"))"
   ]
  },
  {
   "cell_type": "code",
   "execution_count": 55,
   "id": "8f90b14f",
   "metadata": {},
   "outputs": [
    {
     "data": {
      "text/plain": [
       "52192"
      ]
     },
     "execution_count": 55,
     "metadata": {},
     "output_type": "execute_result"
    }
   ],
   "source": [
    "len(books[books.viaf_id!=\"\"])"
   ]
  },
  {
   "cell_type": "code",
   "execution_count": 56,
   "id": "b2a8f9af",
   "metadata": {},
   "outputs": [
    {
     "data": {
      "text/html": [
       "<div>\n",
       "<style scoped>\n",
       "    .dataframe tbody tr th:only-of-type {\n",
       "        vertical-align: middle;\n",
       "    }\n",
       "\n",
       "    .dataframe tbody tr th {\n",
       "        vertical-align: top;\n",
       "    }\n",
       "\n",
       "    .dataframe thead th {\n",
       "        text-align: right;\n",
       "    }\n",
       "</style>\n",
       "<table border=\"1\" class=\"dataframe\">\n",
       "  <thead>\n",
       "    <tr style=\"text-align: right;\">\n",
       "      <th></th>\n",
       "      <th>ISBN</th>\n",
       "      <th>title</th>\n",
       "      <th>author</th>\n",
       "      <th>year</th>\n",
       "      <th>publisher</th>\n",
       "      <th>alt_title</th>\n",
       "      <th>alt_author</th>\n",
       "      <th>correct_author</th>\n",
       "      <th>alt_first_author</th>\n",
       "      <th>viaf_id</th>\n",
       "      <th>viaf_name</th>\n",
       "    </tr>\n",
       "  </thead>\n",
       "  <tbody>\n",
       "    <tr>\n",
       "      <th>159654</th>\n",
       "      <td>0872168158</td>\n",
       "      <td>Blood Red Rose</td>\n",
       "      <td>Arthur Wise</td>\n",
       "      <td>1981</td>\n",
       "      <td>Playboy Paperbacks</td>\n",
       "      <td>Blood Red Rose</td>\n",
       "      <td>Arthur Wise|Nicola Wise</td>\n",
       "      <td>Arthur Wise</td>\n",
       "      <td>Arthur Wise</td>\n",
       "      <td>113085865</td>\n",
       "      <td>Arthur Wise, 1923-</td>\n",
       "    </tr>\n",
       "    <tr>\n",
       "      <th>159663</th>\n",
       "      <td>0708823904</td>\n",
       "      <td>Don't cry for me, sergeant-major</td>\n",
       "      <td>Robert McGowan</td>\n",
       "      <td>1983</td>\n",
       "      <td>Futura</td>\n",
       "      <td>Don't Cry for Me, Sergeant-major</td>\n",
       "      <td>Robert McGowan|Jeremy Hands</td>\n",
       "      <td>Robert McGowan</td>\n",
       "      <td>Robert McGowan</td>\n",
       "      <td>51896504</td>\n",
       "      <td>Robert McGowan 1882-1955</td>\n",
       "    </tr>\n",
       "    <tr>\n",
       "      <th>159664</th>\n",
       "      <td>0380790688</td>\n",
       "      <td>Loverboy</td>\n",
       "      <td>R. G. Belsky</td>\n",
       "      <td>1998</td>\n",
       "      <td>Avon</td>\n",
       "      <td>Loverboy</td>\n",
       "      <td>R. G. Belsky</td>\n",
       "      <td>R. G. Belsky</td>\n",
       "      <td>R. G. Belsky</td>\n",
       "      <td>6383161212044840070007</td>\n",
       "      <td>R.G Belsky</td>\n",
       "    </tr>\n",
       "    <tr>\n",
       "      <th>159667</th>\n",
       "      <td>0747278342</td>\n",
       "      <td>1915 the Death of Innocence</td>\n",
       "      <td>Lyn Macdonald</td>\n",
       "      <td>0</td>\n",
       "      <td>Trafalgar Square</td>\n",
       "      <td>1915</td>\n",
       "      <td>Lyn Macdonald</td>\n",
       "      <td>Lyn Macdonald</td>\n",
       "      <td>Lyn Macdonald</td>\n",
       "      <td>14944822</td>\n",
       "      <td>Lyn Macdonald</td>\n",
       "    </tr>\n",
       "    <tr>\n",
       "      <th>159672</th>\n",
       "      <td>0812972155</td>\n",
       "      <td>Masters of Doom : How Two Guys Created an Empi...</td>\n",
       "      <td>DAVID KUSHNER</td>\n",
       "      <td>2004</td>\n",
       "      <td>Random House Trade Paperbacks</td>\n",
       "      <td>Masters of Doom</td>\n",
       "      <td>David Kushner</td>\n",
       "      <td>David Kushner</td>\n",
       "      <td>David Kushner</td>\n",
       "      <td>98519418</td>\n",
       "      <td>David Kushner, 1968-</td>\n",
       "    </tr>\n",
       "  </tbody>\n",
       "</table>\n",
       "</div>"
      ],
      "text/plain": [
       "              ISBN                                              title  \\\n",
       "159654  0872168158                                     Blood Red Rose   \n",
       "159663  0708823904                   Don't cry for me, sergeant-major   \n",
       "159664  0380790688                                           Loverboy   \n",
       "159667  0747278342                        1915 the Death of Innocence   \n",
       "159672  0812972155  Masters of Doom : How Two Guys Created an Empi...   \n",
       "\n",
       "                author  year                      publisher  \\\n",
       "159654     Arthur Wise  1981             Playboy Paperbacks   \n",
       "159663  Robert McGowan  1983                         Futura   \n",
       "159664    R. G. Belsky  1998                           Avon   \n",
       "159667   Lyn Macdonald     0               Trafalgar Square   \n",
       "159672   DAVID KUSHNER  2004  Random House Trade Paperbacks   \n",
       "\n",
       "                               alt_title                   alt_author  \\\n",
       "159654                    Blood Red Rose      Arthur Wise|Nicola Wise   \n",
       "159663  Don't Cry for Me, Sergeant-major  Robert McGowan|Jeremy Hands   \n",
       "159664                          Loverboy                 R. G. Belsky   \n",
       "159667                              1915                Lyn Macdonald   \n",
       "159672                   Masters of Doom                David Kushner   \n",
       "\n",
       "        correct_author alt_first_author                 viaf_id  \\\n",
       "159654     Arthur Wise      Arthur Wise               113085865   \n",
       "159663  Robert McGowan   Robert McGowan                51896504   \n",
       "159664    R. G. Belsky     R. G. Belsky  6383161212044840070007   \n",
       "159667   Lyn Macdonald    Lyn Macdonald                14944822   \n",
       "159672   David Kushner    David Kushner                98519418   \n",
       "\n",
       "                       viaf_name  \n",
       "159654        Arthur Wise, 1923-  \n",
       "159663  Robert McGowan 1882-1955  \n",
       "159664                R.G Belsky  \n",
       "159667             Lyn Macdonald  \n",
       "159672      David Kushner, 1968-  "
      ]
     },
     "execution_count": 56,
     "metadata": {},
     "output_type": "execute_result"
    }
   ],
   "source": [
    "books[books.viaf_id!=\"\"].tail()"
   ]
  },
  {
   "cell_type": "code",
   "execution_count": null,
   "id": "33b04eb1",
   "metadata": {},
   "outputs": [],
   "source": []
  }
 ],
 "metadata": {
  "kernelspec": {
   "display_name": "Python 3",
   "language": "python",
   "name": "python3"
  },
  "language_info": {
   "codemirror_mode": {
    "name": "ipython",
    "version": 3
   },
   "file_extension": ".py",
   "mimetype": "text/x-python",
   "name": "python",
   "nbconvert_exporter": "python",
   "pygments_lexer": "ipython3",
   "version": "3.6.5"
  }
 },
 "nbformat": 4,
 "nbformat_minor": 5
}
