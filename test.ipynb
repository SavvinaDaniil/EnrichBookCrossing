{
 "cells": [
  {
   "cell_type": "code",
   "execution_count": 1,
   "id": "02f6a1ef",
   "metadata": {},
   "outputs": [],
   "source": [
    "import time\n",
    "from qwikidata.sparql  import return_sparql_query_results\n",
    "from qwikidata.linked_data_interface import get_entity_dict_from_api\n",
    "import pandas as pd\n",
    "import numpy as np\n",
    "import pickle as pkl\n",
    "from collections import Counter\n",
    "import urllib.request\n",
    "import json\n",
    "import string\n",
    "from difflib import SequenceMatcher\n",
    "from viapy.api import ViafAPI\n",
    "import re\n",
    "import math\n",
    "import matplotlib.pyplot as plt\n",
    "from scipy.signal import find_peaks\n",
    "\n",
    "import warnings\n",
    "warnings.simplefilter(action='ignore', category=FutureWarning)"
   ]
  },
  {
   "cell_type": "code",
   "execution_count": 2,
   "id": "b17e4fd1",
   "metadata": {},
   "outputs": [],
   "source": [
    "location_to_save = \"data/final_files/\"\n",
    "large_location_to_save = \"data/final_files/large_files/\""
   ]
  },
  {
   "cell_type": "code",
   "execution_count": 3,
   "id": "dc6efec6",
   "metadata": {},
   "outputs": [],
   "source": [
    "entire_books = pd.read_csv(location_to_save+\"items_books_with_readable_properties.csv\", low_memory=False, index_col=0).fillna(\"\")"
   ]
  },
  {
   "cell_type": "code",
   "execution_count": 4,
   "id": "d92504f2",
   "metadata": {},
   "outputs": [],
   "source": [
    "unique_authors = entire_books[[\"QID\", \"viaf_id\"]].drop_duplicates()"
   ]
  },
  {
   "cell_type": "code",
   "execution_count": 46,
   "id": "c5e0d318",
   "metadata": {
    "scrolled": true
   },
   "outputs": [
    {
     "data": {
      "text/html": [
       "<div>\n",
       "<style scoped>\n",
       "    .dataframe tbody tr th:only-of-type {\n",
       "        vertical-align: middle;\n",
       "    }\n",
       "\n",
       "    .dataframe tbody tr th {\n",
       "        vertical-align: top;\n",
       "    }\n",
       "\n",
       "    .dataframe thead th {\n",
       "        text-align: right;\n",
       "    }\n",
       "</style>\n",
       "<table border=\"1\" class=\"dataframe\">\n",
       "  <thead>\n",
       "    <tr style=\"text-align: right;\">\n",
       "      <th></th>\n",
       "      <th>QID</th>\n",
       "      <th>viaf_id</th>\n",
       "    </tr>\n",
       "  </thead>\n",
       "  <tbody>\n",
       "    <tr>\n",
       "      <th>0</th>\n",
       "      <td></td>\n",
       "      <td>92220559</td>\n",
       "    </tr>\n",
       "    <tr>\n",
       "      <th>1</th>\n",
       "      <td>Q7323887</td>\n",
       "      <td>64022406</td>\n",
       "    </tr>\n",
       "    <tr>\n",
       "      <th>2</th>\n",
       "      <td>Q2939184</td>\n",
       "      <td>97755576</td>\n",
       "    </tr>\n",
       "    <tr>\n",
       "      <th>3</th>\n",
       "      <td>Q1524875</td>\n",
       "      <td>111861625</td>\n",
       "    </tr>\n",
       "    <tr>\n",
       "      <th>4</th>\n",
       "      <td>Q5363702</td>\n",
       "      <td>91244635</td>\n",
       "    </tr>\n",
       "    <tr>\n",
       "      <th>...</th>\n",
       "      <td>...</td>\n",
       "      <td>...</td>\n",
       "    </tr>\n",
       "    <tr>\n",
       "      <th>218979</th>\n",
       "      <td></td>\n",
       "      <td>317107887</td>\n",
       "    </tr>\n",
       "    <tr>\n",
       "      <th>218990</th>\n",
       "      <td>Q105912972</td>\n",
       "      <td>58095023</td>\n",
       "    </tr>\n",
       "    <tr>\n",
       "      <th>218995</th>\n",
       "      <td>Q6166776</td>\n",
       "      <td>35885496</td>\n",
       "    </tr>\n",
       "    <tr>\n",
       "      <th>218997</th>\n",
       "      <td>Q22670670</td>\n",
       "      <td>96333994</td>\n",
       "    </tr>\n",
       "    <tr>\n",
       "      <th>219000</th>\n",
       "      <td></td>\n",
       "      <td>25993945</td>\n",
       "    </tr>\n",
       "  </tbody>\n",
       "</table>\n",
       "<p>68542 rows × 2 columns</p>\n",
       "</div>"
      ],
      "text/plain": [
       "               QID    viaf_id\n",
       "0                    92220559\n",
       "1         Q7323887   64022406\n",
       "2         Q2939184   97755576\n",
       "3         Q1524875  111861625\n",
       "4         Q5363702   91244635\n",
       "...            ...        ...\n",
       "218979              317107887\n",
       "218990  Q105912972   58095023\n",
       "218995    Q6166776   35885496\n",
       "218997   Q22670670   96333994\n",
       "219000               25993945\n",
       "\n",
       "[68542 rows x 2 columns]"
      ]
     },
     "execution_count": 46,
     "metadata": {},
     "output_type": "execute_result"
    }
   ],
   "source": [
    "unique_authors.loc[:219000]"
   ]
  },
  {
   "cell_type": "code",
   "execution_count": 59,
   "id": "08b61ac3",
   "metadata": {},
   "outputs": [],
   "source": [
    "with open('ISBN_dict.pkl', 'rb') as handle:\n",
    "        large_ISBN_dict = pkl.load(handle)"
   ]
  },
  {
   "cell_type": "code",
   "execution_count": 60,
   "id": "32da9e25",
   "metadata": {},
   "outputs": [
    {
     "data": {
      "text/plain": [
       "271360"
      ]
     },
     "execution_count": 60,
     "metadata": {},
     "output_type": "execute_result"
    }
   ],
   "source": [
    "len(large_ISBN_dict.keys())"
   ]
  },
  {
   "cell_type": "code",
   "execution_count": 61,
   "id": "f99907e0",
   "metadata": {},
   "outputs": [
    {
     "data": {
      "text/plain": [
       "271360"
      ]
     },
     "execution_count": 61,
     "metadata": {},
     "output_type": "execute_result"
    }
   ],
   "source": [
    "len(np.unique(list(large_ISBN_dict.keys())))"
   ]
  },
  {
   "cell_type": "code",
   "execution_count": 62,
   "id": "ea8338ca",
   "metadata": {},
   "outputs": [
    {
     "data": {
      "text/plain": [
       "220266"
      ]
     },
     "execution_count": 62,
     "metadata": {},
     "output_type": "execute_result"
    }
   ],
   "source": [
    "len(np.unique(list(large_ISBN_dict.values())))"
   ]
  },
  {
   "cell_type": "code",
   "execution_count": 45,
   "id": "7b7f1a56",
   "metadata": {},
   "outputs": [
    {
     "data": {
      "text/plain": [
       "271360"
      ]
     },
     "execution_count": 45,
     "metadata": {},
     "output_type": "execute_result"
    }
   ],
   "source": [
    "len(entire_books)"
   ]
  },
  {
   "cell_type": "code",
   "execution_count": null,
   "id": "8feb1dc1",
   "metadata": {},
   "outputs": [],
   "source": []
  }
 ],
 "metadata": {
  "kernelspec": {
   "display_name": "Python 3",
   "language": "python",
   "name": "python3"
  },
  "language_info": {
   "codemirror_mode": {
    "name": "ipython",
    "version": 3
   },
   "file_extension": ".py",
   "mimetype": "text/x-python",
   "name": "python",
   "nbconvert_exporter": "python",
   "pygments_lexer": "ipython3",
   "version": "3.6.5"
  }
 },
 "nbformat": 4,
 "nbformat_minor": 5
}
